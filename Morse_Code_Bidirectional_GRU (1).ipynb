{
  "cells": [
    {
      "cell_type": "markdown",
      "source": [
        "### Imports"
      ],
      "metadata": {
        "id": "wugvQi4k9XmS"
      },
      "id": "wugvQi4k9XmS"
    },
    {
      "cell_type": "code",
      "source": [
        "import pandas as pd\n",
        "import numpy as np\n",
        "import tensorflow as tf\n",
        "import matplotlib.pyplot as plt\n",
        "from sklearn.model_selection import train_test_split\n",
        "from tensorflow.keras.regularizers import l2\n",
        "from tensorflow.keras.callbacks import EarlyStopping, ReduceLROnPlateau\n",
        "from tensorflow.keras.optimizers import AdamW\n",
        "from tensorflow.keras.layers import (\n",
        "    Input, Embedding, Bidirectional,\n",
        "    GRU, Dropout, Dense, Lambda\n",
        ")\n",
        "from tensorflow.keras.models import Model"
      ],
      "metadata": {
        "id": "hia57S3U9c5P"
      },
      "id": "hia57S3U9c5P",
      "execution_count": 14,
      "outputs": []
    },
    {
      "cell_type": "markdown",
      "source": [
        "### Load and preprocess data"
      ],
      "metadata": {
        "id": "lruxKMNu-VZR"
      },
      "id": "lruxKMNu-VZR"
    },
    {
      "cell_type": "code",
      "source": [
        "df = pd.read_csv('/content/Masked_morse_code_dataset.csv')\n",
        "sentences = df['morse_masked_sentences'].astype(str).tolist()\n",
        "labels = df['labels'].astype(str).tolist()"
      ],
      "metadata": {
        "id": "VG579F589iFV"
      },
      "id": "VG579F589iFV",
      "execution_count": 2,
      "outputs": []
    },
    {
      "cell_type": "markdown",
      "source": [
        "### Align and Extract Mask Positions"
      ],
      "metadata": {
        "id": "MYhyByjT-Se7"
      },
      "id": "MYhyByjT-Se7"
    },
    {
      "cell_type": "code",
      "source": [
        "all_tokens = set()\n",
        "for seq in sentences:\n",
        "    all_tokens.update(seq.split())\n",
        "all_tokens.update(labels)\n",
        "vocab     = sorted(all_tokens)\n",
        "token2id  = {tok: i for i, tok in enumerate(vocab)}\n",
        "id2token  = {i: tok for tok, i in token2id.items()}\n",
        "\n",
        "# 4. Encode & extract mask positions + label IDs\n",
        "encoded, mask_pos, label_ids = [], [], []\n",
        "for seq, lbl in zip(sentences, labels):\n",
        "    toks = seq.split()\n",
        "    ids  = [token2id[t] for t in toks]\n",
        "    encoded.append(ids)\n",
        "    mask_pos.append(toks.index('[MASK]'))\n",
        "    label_ids.append(token2id[lbl])\n",
        "\n",
        "# 5. Pad/truncate to fixed length\n",
        "MAXLEN = 128\n",
        "def pad_trunc(x):\n",
        "    if len(x) >= MAXLEN:\n",
        "        return x[:MAXLEN]\n",
        "    return x + [0] * (MAXLEN - len(x))\n",
        "\n",
        "encoded   = np.array([pad_trunc(x) for x in encoded], dtype=np.int32)\n",
        "mask_pos  = np.array([min(p, MAXLEN-1) for p in mask_pos], dtype=np.int32)\n",
        "label_ids = np.array(label_ids, dtype=np.int32)"
      ],
      "metadata": {
        "id": "54ensrkf9lIt"
      },
      "id": "54ensrkf9lIt",
      "execution_count": 3,
      "outputs": []
    },
    {
      "cell_type": "markdown",
      "source": [
        "### Split the dataset in train and val datasets"
      ],
      "metadata": {
        "id": "dVhJ5x6g-O6O"
      },
      "id": "dVhJ5x6g-O6O"
    },
    {
      "cell_type": "code",
      "source": [
        "train_ids, val_ids, train_pos, val_pos, train_lbl, val_lbl = train_test_split(\n",
        "    encoded, mask_pos, label_ids,\n",
        "    test_size=0.2\n",
        ")\n",
        "\n",
        "BATCH_SIZE = 64\n",
        "def make_ds(ids, poses, lbls, shuffle=False):\n",
        "    ds = tf.data.Dataset.from_tensor_slices(\n",
        "        ({\"input_ids\": ids, \"mask_pos\": poses}, lbls)\n",
        "    )\n",
        "    if shuffle:\n",
        "        ds = ds.cache().shuffle(len(ids))\n",
        "    else:\n",
        "        ds = ds.cache()\n",
        "    return ds.batch(BATCH_SIZE).prefetch(tf.data.AUTOTUNE)\n",
        "\n",
        "train_ds = make_ds(train_ids, train_pos, train_lbl, shuffle=True)\n",
        "val_ds   = make_ds(val_ids,   val_pos,   val_lbl,   shuffle=False)"
      ],
      "metadata": {
        "id": "--FeiGak9nsC"
      },
      "id": "--FeiGak9nsC",
      "execution_count": 4,
      "outputs": []
    },
    {
      "cell_type": "markdown",
      "source": [
        "### Model Definition"
      ],
      "metadata": {
        "id": "duUderzw-KOS"
      },
      "id": "duUderzw-KOS"
    },
    {
      "cell_type": "code",
      "source": [
        "# 8. Model hyperparameters\n",
        "vocab_size = len(vocab)\n",
        "embed_dim  = 128\n",
        "gru_units  = 64\n",
        "drop_rate  = 0.5\n",
        "l2_reg     = 1e-4\n",
        "\n",
        "# 9. Build the network WITHOUT mask_zero so no RNN-mask is generated\n",
        "inp_ids = Input(shape=(MAXLEN,), name=\"input_ids\", dtype=tf.int32)\n",
        "inp_pos = Input(shape=(),      name=\"mask_pos\", dtype=tf.int32)\n",
        "\n",
        "x = Embedding(\n",
        "    input_dim=vocab_size,\n",
        "    output_dim=embed_dim,\n",
        "    mask_zero=False     # <- disable mask generation\n",
        ")(inp_ids)\n",
        "\n",
        "# Two fast CuDNN GRU layers (no recurrent_dropout)\n",
        "x = Bidirectional(GRU(\n",
        "    gru_units,\n",
        "    return_sequences=True,\n",
        "    dropout=0.0,           # must be zero for CuDNN\n",
        "    kernel_regularizer=l2(l2_reg)\n",
        "))(x)\n",
        "x = Dropout(drop_rate)(x)\n",
        "x = Bidirectional(GRU(\n",
        "    gru_units,\n",
        "    return_sequences=True,\n",
        "    dropout=0.0,\n",
        "    kernel_regularizer=l2(l2_reg)\n",
        "))(x)\n",
        "x = Dropout(drop_rate)(x)\n",
        "\n",
        "# Extract the hidden-state at mask_pos\n",
        "mask_repr = Lambda(\n",
        "    lambda args: tf.gather(args[0], args[1], axis=1, batch_dims=1),\n",
        "    output_shape=lambda shapes: (shapes[0][0], shapes[0][2])\n",
        ")([x, inp_pos])\n",
        "\n",
        "output = Dense(\n",
        "    units=vocab_size,\n",
        "    activation=\"softmax\",\n",
        "    kernel_regularizer=l2(l2_reg)\n",
        ")(mask_repr)\n",
        "\n",
        "model = Model([inp_ids, inp_pos], output)\n",
        "\n",
        "# 10. Compile with AdamW + weight decay + gradient clipping\n",
        "optimizer = AdamW(\n",
        "    learning_rate=5e-4,\n",
        "    weight_decay=1e-5,\n",
        "    clipnorm=1.0\n",
        ")\n",
        "model.compile(\n",
        "    optimizer=optimizer,\n",
        "    loss=\"sparse_categorical_crossentropy\",\n",
        "    metrics=[\"accuracy\"]\n",
        ")\n",
        "\n",
        "model.summary()"
      ],
      "metadata": {
        "colab": {
          "base_uri": "https://localhost:8080/",
          "height": 513
        },
        "id": "i6-7rQnh9vtH",
        "outputId": "9d939e3e-d95c-454b-d7bb-8567ea2b168c"
      },
      "id": "i6-7rQnh9vtH",
      "execution_count": 5,
      "outputs": [
        {
          "output_type": "display_data",
          "data": {
            "text/plain": [
              "\u001b[1mModel: \"functional\"\u001b[0m\n"
            ],
            "text/html": [
              "<pre style=\"white-space:pre;overflow-x:auto;line-height:normal;font-family:Menlo,'DejaVu Sans Mono',consolas,'Courier New',monospace\"><span style=\"font-weight: bold\">Model: \"functional\"</span>\n",
              "</pre>\n"
            ]
          },
          "metadata": {}
        },
        {
          "output_type": "display_data",
          "data": {
            "text/plain": [
              "┏━━━━━━━━━━━━━━━━━━━━━┳━━━━━━━━━━━━━━━━━━━┳━━━━━━━━━━━━┳━━━━━━━━━━━━━━━━━━━┓\n",
              "┃\u001b[1m \u001b[0m\u001b[1mLayer (type)       \u001b[0m\u001b[1m \u001b[0m┃\u001b[1m \u001b[0m\u001b[1mOutput Shape     \u001b[0m\u001b[1m \u001b[0m┃\u001b[1m \u001b[0m\u001b[1m   Param #\u001b[0m\u001b[1m \u001b[0m┃\u001b[1m \u001b[0m\u001b[1mConnected to     \u001b[0m\u001b[1m \u001b[0m┃\n",
              "┡━━━━━━━━━━━━━━━━━━━━━╇━━━━━━━━━━━━━━━━━━━╇━━━━━━━━━━━━╇━━━━━━━━━━━━━━━━━━━┩\n",
              "│ input_ids           │ (\u001b[38;5;45mNone\u001b[0m, \u001b[38;5;34m128\u001b[0m)       │          \u001b[38;5;34m0\u001b[0m │ -                 │\n",
              "│ (\u001b[38;5;33mInputLayer\u001b[0m)        │                   │            │                   │\n",
              "├─────────────────────┼───────────────────┼────────────┼───────────────────┤\n",
              "│ embedding           │ (\u001b[38;5;45mNone\u001b[0m, \u001b[38;5;34m128\u001b[0m, \u001b[38;5;34m128\u001b[0m)  │      \u001b[38;5;34m7,296\u001b[0m │ input_ids[\u001b[38;5;34m0\u001b[0m][\u001b[38;5;34m0\u001b[0m]   │\n",
              "│ (\u001b[38;5;33mEmbedding\u001b[0m)         │                   │            │                   │\n",
              "├─────────────────────┼───────────────────┼────────────┼───────────────────┤\n",
              "│ bidirectional       │ (\u001b[38;5;45mNone\u001b[0m, \u001b[38;5;34m128\u001b[0m, \u001b[38;5;34m128\u001b[0m)  │     \u001b[38;5;34m74,496\u001b[0m │ embedding[\u001b[38;5;34m0\u001b[0m][\u001b[38;5;34m0\u001b[0m]   │\n",
              "│ (\u001b[38;5;33mBidirectional\u001b[0m)     │                   │            │                   │\n",
              "├─────────────────────┼───────────────────┼────────────┼───────────────────┤\n",
              "│ dropout (\u001b[38;5;33mDropout\u001b[0m)   │ (\u001b[38;5;45mNone\u001b[0m, \u001b[38;5;34m128\u001b[0m, \u001b[38;5;34m128\u001b[0m)  │          \u001b[38;5;34m0\u001b[0m │ bidirectional[\u001b[38;5;34m0\u001b[0m]… │\n",
              "├─────────────────────┼───────────────────┼────────────┼───────────────────┤\n",
              "│ bidirectional_1     │ (\u001b[38;5;45mNone\u001b[0m, \u001b[38;5;34m128\u001b[0m, \u001b[38;5;34m128\u001b[0m)  │     \u001b[38;5;34m74,496\u001b[0m │ dropout[\u001b[38;5;34m0\u001b[0m][\u001b[38;5;34m0\u001b[0m]     │\n",
              "│ (\u001b[38;5;33mBidirectional\u001b[0m)     │                   │            │                   │\n",
              "├─────────────────────┼───────────────────┼────────────┼───────────────────┤\n",
              "│ dropout_1 (\u001b[38;5;33mDropout\u001b[0m) │ (\u001b[38;5;45mNone\u001b[0m, \u001b[38;5;34m128\u001b[0m, \u001b[38;5;34m128\u001b[0m)  │          \u001b[38;5;34m0\u001b[0m │ bidirectional_1[\u001b[38;5;34m…\u001b[0m │\n",
              "├─────────────────────┼───────────────────┼────────────┼───────────────────┤\n",
              "│ mask_pos            │ (\u001b[38;5;45mNone\u001b[0m)            │          \u001b[38;5;34m0\u001b[0m │ -                 │\n",
              "│ (\u001b[38;5;33mInputLayer\u001b[0m)        │                   │            │                   │\n",
              "├─────────────────────┼───────────────────┼────────────┼───────────────────┤\n",
              "│ lambda (\u001b[38;5;33mLambda\u001b[0m)     │ (\u001b[38;5;45mNone\u001b[0m, \u001b[38;5;34m128\u001b[0m)       │          \u001b[38;5;34m0\u001b[0m │ dropout_1[\u001b[38;5;34m0\u001b[0m][\u001b[38;5;34m0\u001b[0m],  │\n",
              "│                     │                   │            │ mask_pos[\u001b[38;5;34m0\u001b[0m][\u001b[38;5;34m0\u001b[0m]    │\n",
              "├─────────────────────┼───────────────────┼────────────┼───────────────────┤\n",
              "│ dense (\u001b[38;5;33mDense\u001b[0m)       │ (\u001b[38;5;45mNone\u001b[0m, \u001b[38;5;34m57\u001b[0m)        │      \u001b[38;5;34m7,353\u001b[0m │ lambda[\u001b[38;5;34m0\u001b[0m][\u001b[38;5;34m0\u001b[0m]      │\n",
              "└─────────────────────┴───────────────────┴────────────┴───────────────────┘\n"
            ],
            "text/html": [
              "<pre style=\"white-space:pre;overflow-x:auto;line-height:normal;font-family:Menlo,'DejaVu Sans Mono',consolas,'Courier New',monospace\">┏━━━━━━━━━━━━━━━━━━━━━┳━━━━━━━━━━━━━━━━━━━┳━━━━━━━━━━━━┳━━━━━━━━━━━━━━━━━━━┓\n",
              "┃<span style=\"font-weight: bold\"> Layer (type)        </span>┃<span style=\"font-weight: bold\"> Output Shape      </span>┃<span style=\"font-weight: bold\">    Param # </span>┃<span style=\"font-weight: bold\"> Connected to      </span>┃\n",
              "┡━━━━━━━━━━━━━━━━━━━━━╇━━━━━━━━━━━━━━━━━━━╇━━━━━━━━━━━━╇━━━━━━━━━━━━━━━━━━━┩\n",
              "│ input_ids           │ (<span style=\"color: #00d7ff; text-decoration-color: #00d7ff\">None</span>, <span style=\"color: #00af00; text-decoration-color: #00af00\">128</span>)       │          <span style=\"color: #00af00; text-decoration-color: #00af00\">0</span> │ -                 │\n",
              "│ (<span style=\"color: #0087ff; text-decoration-color: #0087ff\">InputLayer</span>)        │                   │            │                   │\n",
              "├─────────────────────┼───────────────────┼────────────┼───────────────────┤\n",
              "│ embedding           │ (<span style=\"color: #00d7ff; text-decoration-color: #00d7ff\">None</span>, <span style=\"color: #00af00; text-decoration-color: #00af00\">128</span>, <span style=\"color: #00af00; text-decoration-color: #00af00\">128</span>)  │      <span style=\"color: #00af00; text-decoration-color: #00af00\">7,296</span> │ input_ids[<span style=\"color: #00af00; text-decoration-color: #00af00\">0</span>][<span style=\"color: #00af00; text-decoration-color: #00af00\">0</span>]   │\n",
              "│ (<span style=\"color: #0087ff; text-decoration-color: #0087ff\">Embedding</span>)         │                   │            │                   │\n",
              "├─────────────────────┼───────────────────┼────────────┼───────────────────┤\n",
              "│ bidirectional       │ (<span style=\"color: #00d7ff; text-decoration-color: #00d7ff\">None</span>, <span style=\"color: #00af00; text-decoration-color: #00af00\">128</span>, <span style=\"color: #00af00; text-decoration-color: #00af00\">128</span>)  │     <span style=\"color: #00af00; text-decoration-color: #00af00\">74,496</span> │ embedding[<span style=\"color: #00af00; text-decoration-color: #00af00\">0</span>][<span style=\"color: #00af00; text-decoration-color: #00af00\">0</span>]   │\n",
              "│ (<span style=\"color: #0087ff; text-decoration-color: #0087ff\">Bidirectional</span>)     │                   │            │                   │\n",
              "├─────────────────────┼───────────────────┼────────────┼───────────────────┤\n",
              "│ dropout (<span style=\"color: #0087ff; text-decoration-color: #0087ff\">Dropout</span>)   │ (<span style=\"color: #00d7ff; text-decoration-color: #00d7ff\">None</span>, <span style=\"color: #00af00; text-decoration-color: #00af00\">128</span>, <span style=\"color: #00af00; text-decoration-color: #00af00\">128</span>)  │          <span style=\"color: #00af00; text-decoration-color: #00af00\">0</span> │ bidirectional[<span style=\"color: #00af00; text-decoration-color: #00af00\">0</span>]… │\n",
              "├─────────────────────┼───────────────────┼────────────┼───────────────────┤\n",
              "│ bidirectional_1     │ (<span style=\"color: #00d7ff; text-decoration-color: #00d7ff\">None</span>, <span style=\"color: #00af00; text-decoration-color: #00af00\">128</span>, <span style=\"color: #00af00; text-decoration-color: #00af00\">128</span>)  │     <span style=\"color: #00af00; text-decoration-color: #00af00\">74,496</span> │ dropout[<span style=\"color: #00af00; text-decoration-color: #00af00\">0</span>][<span style=\"color: #00af00; text-decoration-color: #00af00\">0</span>]     │\n",
              "│ (<span style=\"color: #0087ff; text-decoration-color: #0087ff\">Bidirectional</span>)     │                   │            │                   │\n",
              "├─────────────────────┼───────────────────┼────────────┼───────────────────┤\n",
              "│ dropout_1 (<span style=\"color: #0087ff; text-decoration-color: #0087ff\">Dropout</span>) │ (<span style=\"color: #00d7ff; text-decoration-color: #00d7ff\">None</span>, <span style=\"color: #00af00; text-decoration-color: #00af00\">128</span>, <span style=\"color: #00af00; text-decoration-color: #00af00\">128</span>)  │          <span style=\"color: #00af00; text-decoration-color: #00af00\">0</span> │ bidirectional_1[<span style=\"color: #00af00; text-decoration-color: #00af00\">…</span> │\n",
              "├─────────────────────┼───────────────────┼────────────┼───────────────────┤\n",
              "│ mask_pos            │ (<span style=\"color: #00d7ff; text-decoration-color: #00d7ff\">None</span>)            │          <span style=\"color: #00af00; text-decoration-color: #00af00\">0</span> │ -                 │\n",
              "│ (<span style=\"color: #0087ff; text-decoration-color: #0087ff\">InputLayer</span>)        │                   │            │                   │\n",
              "├─────────────────────┼───────────────────┼────────────┼───────────────────┤\n",
              "│ lambda (<span style=\"color: #0087ff; text-decoration-color: #0087ff\">Lambda</span>)     │ (<span style=\"color: #00d7ff; text-decoration-color: #00d7ff\">None</span>, <span style=\"color: #00af00; text-decoration-color: #00af00\">128</span>)       │          <span style=\"color: #00af00; text-decoration-color: #00af00\">0</span> │ dropout_1[<span style=\"color: #00af00; text-decoration-color: #00af00\">0</span>][<span style=\"color: #00af00; text-decoration-color: #00af00\">0</span>],  │\n",
              "│                     │                   │            │ mask_pos[<span style=\"color: #00af00; text-decoration-color: #00af00\">0</span>][<span style=\"color: #00af00; text-decoration-color: #00af00\">0</span>]    │\n",
              "├─────────────────────┼───────────────────┼────────────┼───────────────────┤\n",
              "│ dense (<span style=\"color: #0087ff; text-decoration-color: #0087ff\">Dense</span>)       │ (<span style=\"color: #00d7ff; text-decoration-color: #00d7ff\">None</span>, <span style=\"color: #00af00; text-decoration-color: #00af00\">57</span>)        │      <span style=\"color: #00af00; text-decoration-color: #00af00\">7,353</span> │ lambda[<span style=\"color: #00af00; text-decoration-color: #00af00\">0</span>][<span style=\"color: #00af00; text-decoration-color: #00af00\">0</span>]      │\n",
              "└─────────────────────┴───────────────────┴────────────┴───────────────────┘\n",
              "</pre>\n"
            ]
          },
          "metadata": {}
        },
        {
          "output_type": "display_data",
          "data": {
            "text/plain": [
              "\u001b[1m Total params: \u001b[0m\u001b[38;5;34m163,641\u001b[0m (639.22 KB)\n"
            ],
            "text/html": [
              "<pre style=\"white-space:pre;overflow-x:auto;line-height:normal;font-family:Menlo,'DejaVu Sans Mono',consolas,'Courier New',monospace\"><span style=\"font-weight: bold\"> Total params: </span><span style=\"color: #00af00; text-decoration-color: #00af00\">163,641</span> (639.22 KB)\n",
              "</pre>\n"
            ]
          },
          "metadata": {}
        },
        {
          "output_type": "display_data",
          "data": {
            "text/plain": [
              "\u001b[1m Trainable params: \u001b[0m\u001b[38;5;34m163,641\u001b[0m (639.22 KB)\n"
            ],
            "text/html": [
              "<pre style=\"white-space:pre;overflow-x:auto;line-height:normal;font-family:Menlo,'DejaVu Sans Mono',consolas,'Courier New',monospace\"><span style=\"font-weight: bold\"> Trainable params: </span><span style=\"color: #00af00; text-decoration-color: #00af00\">163,641</span> (639.22 KB)\n",
              "</pre>\n"
            ]
          },
          "metadata": {}
        },
        {
          "output_type": "display_data",
          "data": {
            "text/plain": [
              "\u001b[1m Non-trainable params: \u001b[0m\u001b[38;5;34m0\u001b[0m (0.00 B)\n"
            ],
            "text/html": [
              "<pre style=\"white-space:pre;overflow-x:auto;line-height:normal;font-family:Menlo,'DejaVu Sans Mono',consolas,'Courier New',monospace\"><span style=\"font-weight: bold\"> Non-trainable params: </span><span style=\"color: #00af00; text-decoration-color: #00af00\">0</span> (0.00 B)\n",
              "</pre>\n"
            ]
          },
          "metadata": {}
        }
      ]
    },
    {
      "cell_type": "markdown",
      "source": [
        "### Callbacks"
      ],
      "metadata": {
        "id": "HKrM8L2P-I1k"
      },
      "id": "HKrM8L2P-I1k"
    },
    {
      "cell_type": "code",
      "source": [
        "callbacks = [\n",
        "    EarlyStopping(monitor=\"val_loss\", patience=3,\n",
        "                  restore_best_weights=True, verbose=1),\n",
        "    ReduceLROnPlateau(monitor=\"val_loss\", factor=0.5,\n",
        "                      patience=2, min_lr=1e-6, verbose=1)\n",
        "]"
      ],
      "metadata": {
        "id": "-35Twbrf9xt-"
      },
      "id": "-35Twbrf9xt-",
      "execution_count": 6,
      "outputs": []
    },
    {
      "cell_type": "markdown",
      "source": [
        "### Train"
      ],
      "metadata": {
        "id": "z-fktiKm-GAn"
      },
      "id": "z-fktiKm-GAn"
    },
    {
      "cell_type": "code",
      "source": [
        "history = model.fit(\n",
        "    train_ds,\n",
        "    validation_data=val_ds,\n",
        "    epochs=100,\n",
        "    callbacks=callbacks\n",
        ")"
      ],
      "metadata": {
        "colab": {
          "base_uri": "https://localhost:8080/"
        },
        "id": "4qO7rdW_9y2r",
        "outputId": "f9d48ab3-ea83-43a9-dec5-5948f38acfd2"
      },
      "id": "4qO7rdW_9y2r",
      "execution_count": 7,
      "outputs": [
        {
          "output_type": "stream",
          "name": "stdout",
          "text": [
            "Epoch 1/100\n",
            "\u001b[1m265/265\u001b[0m \u001b[32m━━━━━━━━━━━━━━━━━━━━\u001b[0m\u001b[37m\u001b[0m \u001b[1m15s\u001b[0m 27ms/step - accuracy: 0.0941 - loss: 3.5362 - val_accuracy: 0.1628 - val_loss: 2.9386 - learning_rate: 5.0000e-04\n",
            "Epoch 2/100\n",
            "\u001b[1m265/265\u001b[0m \u001b[32m━━━━━━━━━━━━━━━━━━━━\u001b[0m\u001b[37m\u001b[0m \u001b[1m8s\u001b[0m 29ms/step - accuracy: 0.1743 - loss: 2.9081 - val_accuracy: 0.2663 - val_loss: 2.5394 - learning_rate: 5.0000e-04\n",
            "Epoch 3/100\n",
            "\u001b[1m265/265\u001b[0m \u001b[32m━━━━━━━━━━━━━━━━━━━━\u001b[0m\u001b[37m\u001b[0m \u001b[1m7s\u001b[0m 25ms/step - accuracy: 0.2520 - loss: 2.6174 - val_accuracy: 0.3024 - val_loss: 2.3929 - learning_rate: 5.0000e-04\n",
            "Epoch 4/100\n",
            "\u001b[1m265/265\u001b[0m \u001b[32m━━━━━━━━━━━━━━━━━━━━\u001b[0m\u001b[37m\u001b[0m \u001b[1m7s\u001b[0m 27ms/step - accuracy: 0.2809 - loss: 2.4724 - val_accuracy: 0.3359 - val_loss: 2.3050 - learning_rate: 5.0000e-04\n",
            "Epoch 5/100\n",
            "\u001b[1m265/265\u001b[0m \u001b[32m━━━━━━━━━━━━━━━━━━━━\u001b[0m\u001b[37m\u001b[0m \u001b[1m7s\u001b[0m 28ms/step - accuracy: 0.2952 - loss: 2.4275 - val_accuracy: 0.3614 - val_loss: 2.2251 - learning_rate: 5.0000e-04\n",
            "Epoch 6/100\n",
            "\u001b[1m265/265\u001b[0m \u001b[32m━━━━━━━━━━━━━━━━━━━━\u001b[0m\u001b[37m\u001b[0m \u001b[1m10s\u001b[0m 25ms/step - accuracy: 0.3281 - loss: 2.3367 - val_accuracy: 0.3777 - val_loss: 2.1679 - learning_rate: 5.0000e-04\n",
            "Epoch 7/100\n",
            "\u001b[1m265/265\u001b[0m \u001b[32m━━━━━━━━━━━━━━━━━━━━\u001b[0m\u001b[37m\u001b[0m \u001b[1m7s\u001b[0m 27ms/step - accuracy: 0.3383 - loss: 2.2829 - val_accuracy: 0.3885 - val_loss: 2.1128 - learning_rate: 5.0000e-04\n",
            "Epoch 8/100\n",
            "\u001b[1m265/265\u001b[0m \u001b[32m━━━━━━━━━━━━━━━━━━━━\u001b[0m\u001b[37m\u001b[0m \u001b[1m11s\u001b[0m 28ms/step - accuracy: 0.3563 - loss: 2.2364 - val_accuracy: 0.4081 - val_loss: 2.0659 - learning_rate: 5.0000e-04\n",
            "Epoch 9/100\n",
            "\u001b[1m265/265\u001b[0m \u001b[32m━━━━━━━━━━━━━━━━━━━━\u001b[0m\u001b[37m\u001b[0m \u001b[1m10s\u001b[0m 27ms/step - accuracy: 0.3669 - loss: 2.1937 - val_accuracy: 0.4218 - val_loss: 2.0266 - learning_rate: 5.0000e-04\n",
            "Epoch 10/100\n",
            "\u001b[1m265/265\u001b[0m \u001b[32m━━━━━━━━━━━━━━━━━━━━\u001b[0m\u001b[37m\u001b[0m \u001b[1m7s\u001b[0m 25ms/step - accuracy: 0.3841 - loss: 2.1445 - val_accuracy: 0.4308 - val_loss: 1.9910 - learning_rate: 5.0000e-04\n",
            "Epoch 11/100\n",
            "\u001b[1m265/265\u001b[0m \u001b[32m━━━━━━━━━━━━━━━━━━━━\u001b[0m\u001b[37m\u001b[0m \u001b[1m8s\u001b[0m 29ms/step - accuracy: 0.3922 - loss: 2.0930 - val_accuracy: 0.4345 - val_loss: 1.9578 - learning_rate: 5.0000e-04\n",
            "Epoch 12/100\n",
            "\u001b[1m265/265\u001b[0m \u001b[32m━━━━━━━━━━━━━━━━━━━━\u001b[0m\u001b[37m\u001b[0m \u001b[1m7s\u001b[0m 25ms/step - accuracy: 0.3995 - loss: 2.0629 - val_accuracy: 0.4496 - val_loss: 1.9279 - learning_rate: 5.0000e-04\n",
            "Epoch 13/100\n",
            "\u001b[1m265/265\u001b[0m \u001b[32m━━━━━━━━━━━━━━━━━━━━\u001b[0m\u001b[37m\u001b[0m \u001b[1m7s\u001b[0m 27ms/step - accuracy: 0.4091 - loss: 2.0540 - val_accuracy: 0.4584 - val_loss: 1.8977 - learning_rate: 5.0000e-04\n",
            "Epoch 14/100\n",
            "\u001b[1m265/265\u001b[0m \u001b[32m━━━━━━━━━━━━━━━━━━━━\u001b[0m\u001b[37m\u001b[0m \u001b[1m8s\u001b[0m 28ms/step - accuracy: 0.4196 - loss: 1.9975 - val_accuracy: 0.4645 - val_loss: 1.8708 - learning_rate: 5.0000e-04\n",
            "Epoch 15/100\n",
            "\u001b[1m265/265\u001b[0m \u001b[32m━━━━━━━━━━━━━━━━━━━━\u001b[0m\u001b[37m\u001b[0m \u001b[1m7s\u001b[0m 26ms/step - accuracy: 0.4250 - loss: 1.9965 - val_accuracy: 0.4685 - val_loss: 1.8575 - learning_rate: 5.0000e-04\n",
            "Epoch 16/100\n",
            "\u001b[1m265/265\u001b[0m \u001b[32m━━━━━━━━━━━━━━━━━━━━\u001b[0m\u001b[37m\u001b[0m \u001b[1m7s\u001b[0m 28ms/step - accuracy: 0.4366 - loss: 1.9568 - val_accuracy: 0.4808 - val_loss: 1.8261 - learning_rate: 5.0000e-04\n",
            "Epoch 17/100\n",
            "\u001b[1m265/265\u001b[0m \u001b[32m━━━━━━━━━━━━━━━━━━━━\u001b[0m\u001b[37m\u001b[0m \u001b[1m7s\u001b[0m 25ms/step - accuracy: 0.4498 - loss: 1.9203 - val_accuracy: 0.4860 - val_loss: 1.8111 - learning_rate: 5.0000e-04\n",
            "Epoch 18/100\n",
            "\u001b[1m265/265\u001b[0m \u001b[32m━━━━━━━━━━━━━━━━━━━━\u001b[0m\u001b[37m\u001b[0m \u001b[1m7s\u001b[0m 27ms/step - accuracy: 0.4565 - loss: 1.9032 - val_accuracy: 0.4855 - val_loss: 1.7952 - learning_rate: 5.0000e-04\n",
            "Epoch 19/100\n",
            "\u001b[1m265/265\u001b[0m \u001b[32m━━━━━━━━━━━━━━━━━━━━\u001b[0m\u001b[37m\u001b[0m \u001b[1m7s\u001b[0m 26ms/step - accuracy: 0.4621 - loss: 1.8750 - val_accuracy: 0.4949 - val_loss: 1.7733 - learning_rate: 5.0000e-04\n",
            "Epoch 20/100\n",
            "\u001b[1m265/265\u001b[0m \u001b[32m━━━━━━━━━━━━━━━━━━━━\u001b[0m\u001b[37m\u001b[0m \u001b[1m7s\u001b[0m 26ms/step - accuracy: 0.4600 - loss: 1.8751 - val_accuracy: 0.5013 - val_loss: 1.7553 - learning_rate: 5.0000e-04\n",
            "Epoch 21/100\n",
            "\u001b[1m265/265\u001b[0m \u001b[32m━━━━━━━━━━━━━━━━━━━━\u001b[0m\u001b[37m\u001b[0m \u001b[1m7s\u001b[0m 27ms/step - accuracy: 0.4690 - loss: 1.8407 - val_accuracy: 0.5041 - val_loss: 1.7361 - learning_rate: 5.0000e-04\n",
            "Epoch 22/100\n",
            "\u001b[1m265/265\u001b[0m \u001b[32m━━━━━━━━━━━━━━━━━━━━\u001b[0m\u001b[37m\u001b[0m \u001b[1m11s\u001b[0m 28ms/step - accuracy: 0.4780 - loss: 1.8207 - val_accuracy: 0.5044 - val_loss: 1.7292 - learning_rate: 5.0000e-04\n",
            "Epoch 23/100\n",
            "\u001b[1m265/265\u001b[0m \u001b[32m━━━━━━━━━━━━━━━━━━━━\u001b[0m\u001b[37m\u001b[0m \u001b[1m7s\u001b[0m 25ms/step - accuracy: 0.4850 - loss: 1.7936 - val_accuracy: 0.5126 - val_loss: 1.7101 - learning_rate: 5.0000e-04\n",
            "Epoch 24/100\n",
            "\u001b[1m265/265\u001b[0m \u001b[32m━━━━━━━━━━━━━━━━━━━━\u001b[0m\u001b[37m\u001b[0m \u001b[1m7s\u001b[0m 28ms/step - accuracy: 0.4908 - loss: 1.7905 - val_accuracy: 0.5197 - val_loss: 1.6938 - learning_rate: 5.0000e-04\n",
            "Epoch 25/100\n",
            "\u001b[1m265/265\u001b[0m \u001b[32m━━━━━━━━━━━━━━━━━━━━\u001b[0m\u001b[37m\u001b[0m \u001b[1m7s\u001b[0m 25ms/step - accuracy: 0.4961 - loss: 1.7646 - val_accuracy: 0.5204 - val_loss: 1.6863 - learning_rate: 5.0000e-04\n",
            "Epoch 26/100\n",
            "\u001b[1m265/265\u001b[0m \u001b[32m━━━━━━━━━━━━━━━━━━━━\u001b[0m\u001b[37m\u001b[0m \u001b[1m8s\u001b[0m 29ms/step - accuracy: 0.4992 - loss: 1.7453 - val_accuracy: 0.5237 - val_loss: 1.6760 - learning_rate: 5.0000e-04\n",
            "Epoch 27/100\n",
            "\u001b[1m265/265\u001b[0m \u001b[32m━━━━━━━━━━━━━━━━━━━━\u001b[0m\u001b[37m\u001b[0m \u001b[1m7s\u001b[0m 28ms/step - accuracy: 0.5034 - loss: 1.7477 - val_accuracy: 0.5284 - val_loss: 1.6626 - learning_rate: 5.0000e-04\n",
            "Epoch 28/100\n",
            "\u001b[1m265/265\u001b[0m \u001b[32m━━━━━━━━━━━━━━━━━━━━\u001b[0m\u001b[37m\u001b[0m \u001b[1m7s\u001b[0m 25ms/step - accuracy: 0.5079 - loss: 1.7164 - val_accuracy: 0.5308 - val_loss: 1.6515 - learning_rate: 5.0000e-04\n",
            "Epoch 29/100\n",
            "\u001b[1m265/265\u001b[0m \u001b[32m━━━━━━━━━━━━━━━━━━━━\u001b[0m\u001b[37m\u001b[0m \u001b[1m11s\u001b[0m 27ms/step - accuracy: 0.5189 - loss: 1.6686 - val_accuracy: 0.5327 - val_loss: 1.6463 - learning_rate: 5.0000e-04\n",
            "Epoch 30/100\n",
            "\u001b[1m265/265\u001b[0m \u001b[32m━━━━━━━━━━━━━━━━━━━━\u001b[0m\u001b[37m\u001b[0m \u001b[1m7s\u001b[0m 27ms/step - accuracy: 0.5213 - loss: 1.6794 - val_accuracy: 0.5336 - val_loss: 1.6322 - learning_rate: 5.0000e-04\n",
            "Epoch 31/100\n",
            "\u001b[1m265/265\u001b[0m \u001b[32m━━━━━━━━━━━━━━━━━━━━\u001b[0m\u001b[37m\u001b[0m \u001b[1m7s\u001b[0m 25ms/step - accuracy: 0.5197 - loss: 1.6696 - val_accuracy: 0.5416 - val_loss: 1.6281 - learning_rate: 5.0000e-04\n",
            "Epoch 32/100\n",
            "\u001b[1m265/265\u001b[0m \u001b[32m━━━━━━━━━━━━━━━━━━━━\u001b[0m\u001b[37m\u001b[0m \u001b[1m11s\u001b[0m 27ms/step - accuracy: 0.5272 - loss: 1.6535 - val_accuracy: 0.5468 - val_loss: 1.6145 - learning_rate: 5.0000e-04\n",
            "Epoch 33/100\n",
            "\u001b[1m265/265\u001b[0m \u001b[32m━━━━━━━━━━━━━━━━━━━━\u001b[0m\u001b[37m\u001b[0m \u001b[1m7s\u001b[0m 27ms/step - accuracy: 0.5414 - loss: 1.6181 - val_accuracy: 0.5447 - val_loss: 1.6019 - learning_rate: 5.0000e-04\n",
            "Epoch 34/100\n",
            "\u001b[1m265/265\u001b[0m \u001b[32m━━━━━━━━━━━━━━━━━━━━\u001b[0m\u001b[37m\u001b[0m \u001b[1m7s\u001b[0m 25ms/step - accuracy: 0.5460 - loss: 1.6035 - val_accuracy: 0.5506 - val_loss: 1.6018 - learning_rate: 5.0000e-04\n",
            "Epoch 35/100\n",
            "\u001b[1m265/265\u001b[0m \u001b[32m━━━━━━━━━━━━━━━━━━━━\u001b[0m\u001b[37m\u001b[0m \u001b[1m8s\u001b[0m 30ms/step - accuracy: 0.5408 - loss: 1.6157 - val_accuracy: 0.5515 - val_loss: 1.5914 - learning_rate: 5.0000e-04\n",
            "Epoch 36/100\n",
            "\u001b[1m265/265\u001b[0m \u001b[32m━━━━━━━━━━━━━━━━━━━━\u001b[0m\u001b[37m\u001b[0m \u001b[1m7s\u001b[0m 25ms/step - accuracy: 0.5497 - loss: 1.5732 - val_accuracy: 0.5541 - val_loss: 1.5875 - learning_rate: 5.0000e-04\n",
            "Epoch 37/100\n",
            "\u001b[1m265/265\u001b[0m \u001b[32m━━━━━━━━━━━━━━━━━━━━\u001b[0m\u001b[37m\u001b[0m \u001b[1m7s\u001b[0m 27ms/step - accuracy: 0.5559 - loss: 1.5564 - val_accuracy: 0.5558 - val_loss: 1.5792 - learning_rate: 5.0000e-04\n",
            "Epoch 38/100\n",
            "\u001b[1m265/265\u001b[0m \u001b[32m━━━━━━━━━━━━━━━━━━━━\u001b[0m\u001b[37m\u001b[0m \u001b[1m7s\u001b[0m 27ms/step - accuracy: 0.5611 - loss: 1.5673 - val_accuracy: 0.5617 - val_loss: 1.5770 - learning_rate: 5.0000e-04\n",
            "Epoch 39/100\n",
            "\u001b[1m265/265\u001b[0m \u001b[32m━━━━━━━━━━━━━━━━━━━━\u001b[0m\u001b[37m\u001b[0m \u001b[1m7s\u001b[0m 26ms/step - accuracy: 0.5610 - loss: 1.5621 - val_accuracy: 0.5598 - val_loss: 1.5752 - learning_rate: 5.0000e-04\n",
            "Epoch 40/100\n",
            "\u001b[1m265/265\u001b[0m \u001b[32m━━━━━━━━━━━━━━━━━━━━\u001b[0m\u001b[37m\u001b[0m \u001b[1m7s\u001b[0m 27ms/step - accuracy: 0.5669 - loss: 1.5376 - val_accuracy: 0.5650 - val_loss: 1.5643 - learning_rate: 5.0000e-04\n",
            "Epoch 41/100\n",
            "\u001b[1m265/265\u001b[0m \u001b[32m━━━━━━━━━━━━━━━━━━━━\u001b[0m\u001b[37m\u001b[0m \u001b[1m7s\u001b[0m 28ms/step - accuracy: 0.5731 - loss: 1.5233 - val_accuracy: 0.5638 - val_loss: 1.5627 - learning_rate: 5.0000e-04\n",
            "Epoch 42/100\n",
            "\u001b[1m265/265\u001b[0m \u001b[32m━━━━━━━━━━━━━━━━━━━━\u001b[0m\u001b[37m\u001b[0m \u001b[1m10s\u001b[0m 26ms/step - accuracy: 0.5778 - loss: 1.5046 - val_accuracy: 0.5669 - val_loss: 1.5513 - learning_rate: 5.0000e-04\n",
            "Epoch 43/100\n",
            "\u001b[1m265/265\u001b[0m \u001b[32m━━━━━━━━━━━━━━━━━━━━\u001b[0m\u001b[37m\u001b[0m \u001b[1m7s\u001b[0m 27ms/step - accuracy: 0.5709 - loss: 1.5104 - val_accuracy: 0.5723 - val_loss: 1.5588 - learning_rate: 5.0000e-04\n",
            "Epoch 44/100\n",
            "\u001b[1m265/265\u001b[0m \u001b[32m━━━━━━━━━━━━━━━━━━━━\u001b[0m\u001b[37m\u001b[0m \u001b[1m7s\u001b[0m 26ms/step - accuracy: 0.5816 - loss: 1.4796 - val_accuracy: 0.5758 - val_loss: 1.5429 - learning_rate: 5.0000e-04\n",
            "Epoch 45/100\n",
            "\u001b[1m265/265\u001b[0m \u001b[32m━━━━━━━━━━━━━━━━━━━━\u001b[0m\u001b[37m\u001b[0m \u001b[1m7s\u001b[0m 27ms/step - accuracy: 0.5763 - loss: 1.5020 - val_accuracy: 0.5728 - val_loss: 1.5493 - learning_rate: 5.0000e-04\n",
            "Epoch 46/100\n",
            "\u001b[1m265/265\u001b[0m \u001b[32m━━━━━━━━━━━━━━━━━━━━\u001b[0m\u001b[37m\u001b[0m \u001b[1m8s\u001b[0m 29ms/step - accuracy: 0.5922 - loss: 1.4682 - val_accuracy: 0.5773 - val_loss: 1.5398 - learning_rate: 5.0000e-04\n",
            "Epoch 47/100\n",
            "\u001b[1m265/265\u001b[0m \u001b[32m━━━━━━━━━━━━━━━━━━━━\u001b[0m\u001b[37m\u001b[0m \u001b[1m10s\u001b[0m 28ms/step - accuracy: 0.5833 - loss: 1.4621 - val_accuracy: 0.5707 - val_loss: 1.5385 - learning_rate: 5.0000e-04\n",
            "Epoch 48/100\n",
            "\u001b[1m265/265\u001b[0m \u001b[32m━━━━━━━━━━━━━━━━━━━━\u001b[0m\u001b[37m\u001b[0m \u001b[1m7s\u001b[0m 27ms/step - accuracy: 0.5911 - loss: 1.4435 - val_accuracy: 0.5766 - val_loss: 1.5344 - learning_rate: 5.0000e-04\n",
            "Epoch 49/100\n",
            "\u001b[1m265/265\u001b[0m \u001b[32m━━━━━━━━━━━━━━━━━━━━\u001b[0m\u001b[37m\u001b[0m \u001b[1m8s\u001b[0m 29ms/step - accuracy: 0.5961 - loss: 1.4330 - val_accuracy: 0.5817 - val_loss: 1.5229 - learning_rate: 5.0000e-04\n",
            "Epoch 50/100\n",
            "\u001b[1m265/265\u001b[0m \u001b[32m━━━━━━━━━━━━━━━━━━━━\u001b[0m\u001b[37m\u001b[0m \u001b[1m7s\u001b[0m 28ms/step - accuracy: 0.5969 - loss: 1.4344 - val_accuracy: 0.5817 - val_loss: 1.5186 - learning_rate: 5.0000e-04\n",
            "Epoch 51/100\n",
            "\u001b[1m265/265\u001b[0m \u001b[32m━━━━━━━━━━━━━━━━━━━━\u001b[0m\u001b[37m\u001b[0m \u001b[1m7s\u001b[0m 27ms/step - accuracy: 0.5986 - loss: 1.4292 - val_accuracy: 0.5832 - val_loss: 1.5282 - learning_rate: 5.0000e-04\n",
            "Epoch 52/100\n",
            "\u001b[1m264/265\u001b[0m \u001b[32m━━━━━━━━━━━━━━━━━━━\u001b[0m\u001b[37m━\u001b[0m \u001b[1m0s\u001b[0m 23ms/step - accuracy: 0.5970 - loss: 1.4282\n",
            "Epoch 52: ReduceLROnPlateau reducing learning rate to 0.0002500000118743628.\n",
            "\u001b[1m265/265\u001b[0m \u001b[32m━━━━━━━━━━━━━━━━━━━━\u001b[0m\u001b[37m\u001b[0m \u001b[1m7s\u001b[0m 25ms/step - accuracy: 0.5970 - loss: 1.4282 - val_accuracy: 0.5850 - val_loss: 1.5232 - learning_rate: 5.0000e-04\n",
            "Epoch 53/100\n",
            "\u001b[1m265/265\u001b[0m \u001b[32m━━━━━━━━━━━━━━━━━━━━\u001b[0m\u001b[37m\u001b[0m \u001b[1m10s\u001b[0m 26ms/step - accuracy: 0.6106 - loss: 1.3888 - val_accuracy: 0.5909 - val_loss: 1.5160 - learning_rate: 2.5000e-04\n",
            "Epoch 54/100\n",
            "\u001b[1m265/265\u001b[0m \u001b[32m━━━━━━━━━━━━━━━━━━━━\u001b[0m\u001b[37m\u001b[0m \u001b[1m10s\u001b[0m 26ms/step - accuracy: 0.6171 - loss: 1.3742 - val_accuracy: 0.5853 - val_loss: 1.5227 - learning_rate: 2.5000e-04\n",
            "Epoch 55/100\n",
            "\u001b[1m265/265\u001b[0m \u001b[32m━━━━━━━━━━━━━━━━━━━━\u001b[0m\u001b[37m\u001b[0m \u001b[1m0s\u001b[0m 27ms/step - accuracy: 0.6215 - loss: 1.3694\n",
            "Epoch 55: ReduceLROnPlateau reducing learning rate to 0.0001250000059371814.\n",
            "\u001b[1m265/265\u001b[0m \u001b[32m━━━━━━━━━━━━━━━━━━━━\u001b[0m\u001b[37m\u001b[0m \u001b[1m8s\u001b[0m 32ms/step - accuracy: 0.6215 - loss: 1.3694 - val_accuracy: 0.5872 - val_loss: 1.5177 - learning_rate: 2.5000e-04\n",
            "Epoch 56/100\n",
            "\u001b[1m265/265\u001b[0m \u001b[32m━━━━━━━━━━━━━━━━━━━━\u001b[0m\u001b[37m\u001b[0m \u001b[1m12s\u001b[0m 45ms/step - accuracy: 0.6209 - loss: 1.3525 - val_accuracy: 0.5886 - val_loss: 1.5143 - learning_rate: 1.2500e-04\n",
            "Epoch 57/100\n",
            "\u001b[1m265/265\u001b[0m \u001b[32m━━━━━━━━━━━━━━━━━━━━\u001b[0m\u001b[37m\u001b[0m \u001b[1m10s\u001b[0m 36ms/step - accuracy: 0.6208 - loss: 1.3517 - val_accuracy: 0.5895 - val_loss: 1.5147 - learning_rate: 1.2500e-04\n",
            "Epoch 58/100\n",
            "\u001b[1m265/265\u001b[0m \u001b[32m━━━━━━━━━━━━━━━━━━━━\u001b[0m\u001b[37m\u001b[0m \u001b[1m7s\u001b[0m 28ms/step - accuracy: 0.6297 - loss: 1.3303 - val_accuracy: 0.5914 - val_loss: 1.5114 - learning_rate: 1.2500e-04\n",
            "Epoch 59/100\n",
            "\u001b[1m265/265\u001b[0m \u001b[32m━━━━━━━━━━━━━━━━━━━━\u001b[0m\u001b[37m\u001b[0m \u001b[1m8s\u001b[0m 31ms/step - accuracy: 0.6269 - loss: 1.3270 - val_accuracy: 0.5876 - val_loss: 1.5140 - learning_rate: 1.2500e-04\n",
            "Epoch 60/100\n",
            "\u001b[1m265/265\u001b[0m \u001b[32m━━━━━━━━━━━━━━━━━━━━\u001b[0m\u001b[37m\u001b[0m \u001b[1m0s\u001b[0m 25ms/step - accuracy: 0.6275 - loss: 1.3418\n",
            "Epoch 60: ReduceLROnPlateau reducing learning rate to 6.25000029685907e-05.\n",
            "\u001b[1m265/265\u001b[0m \u001b[32m━━━━━━━━━━━━━━━━━━━━\u001b[0m\u001b[37m\u001b[0m \u001b[1m8s\u001b[0m 29ms/step - accuracy: 0.6275 - loss: 1.3418 - val_accuracy: 0.5898 - val_loss: 1.5142 - learning_rate: 1.2500e-04\n",
            "Epoch 61/100\n",
            "\u001b[1m265/265\u001b[0m \u001b[32m━━━━━━━━━━━━━━━━━━━━\u001b[0m\u001b[37m\u001b[0m \u001b[1m8s\u001b[0m 30ms/step - accuracy: 0.6338 - loss: 1.3259 - val_accuracy: 0.5881 - val_loss: 1.5147 - learning_rate: 6.2500e-05\n",
            "Epoch 61: early stopping\n",
            "Restoring model weights from the end of the best epoch: 58.\n"
          ]
        }
      ]
    },
    {
      "cell_type": "markdown",
      "source": [
        "### Evaluate"
      ],
      "metadata": {
        "id": "teg8x7L6-Ed7"
      },
      "id": "teg8x7L6-Ed7"
    },
    {
      "cell_type": "code",
      "source": [
        "loss, acc = model.evaluate(val_ds)\n",
        "print(f\"\\nValidation loss = {loss:.3f}, accuracy = {acc:.3f}\")"
      ],
      "metadata": {
        "colab": {
          "base_uri": "https://localhost:8080/"
        },
        "id": "6FqFGQC-90eE",
        "outputId": "9315cc15-62f3-4da6-d39e-677ecd541a58"
      },
      "id": "6FqFGQC-90eE",
      "execution_count": 12,
      "outputs": [
        {
          "output_type": "stream",
          "name": "stdout",
          "text": [
            "\u001b[1m67/67\u001b[0m \u001b[32m━━━━━━━━━━━━━━━━━━━━\u001b[0m\u001b[37m\u001b[0m \u001b[1m1s\u001b[0m 12ms/step - accuracy: 0.5836 - loss: 1.5516\n",
            "\n",
            "Validation loss = 1.511, accuracy = 0.591\n"
          ]
        }
      ]
    },
    {
      "cell_type": "markdown",
      "source": [
        "### Graphs"
      ],
      "metadata": {
        "id": "5oZ145f--BLZ"
      },
      "id": "5oZ145f--BLZ"
    },
    {
      "cell_type": "code",
      "source": [
        "plt.figure(figsize=(12, 4))\n",
        "plt.subplot(1, 2, 1)\n",
        "plt.plot(history.history['accuracy'])\n",
        "plt.plot(history.history['val_accuracy'])\n",
        "plt.title('Model Accuracy')\n",
        "plt.ylabel('Accuracy')\n",
        "plt.xlabel('Epoch')\n",
        "plt.legend(['Train', 'Validation'], loc='upper left')\n",
        "\n",
        "plt.subplot(1, 2, 2)\n",
        "plt.plot(history.history['loss'])\n",
        "plt.plot(history.history['val_loss'])\n",
        "plt.title('Model Loss')\n",
        "plt.ylabel('Loss')\n",
        "plt.xlabel('Epoch')\n",
        "plt.legend(['Train', 'Validation'], loc='upper left')\n",
        "plt.show()"
      ],
      "metadata": {
        "colab": {
          "base_uri": "https://localhost:8080/",
          "height": 410
        },
        "id": "d0lxNWarSphB",
        "outputId": "ef87ada9-42dc-4cf3-b8d3-72bd36194271"
      },
      "id": "d0lxNWarSphB",
      "execution_count": 15,
      "outputs": [
        {
          "output_type": "display_data",
          "data": {
            "text/plain": [
              "<Figure size 1200x400 with 2 Axes>"
            ],
            "image/png": "[encoded data removed]"
          },
          "metadata": {}
        }
      ]
    },
    {
      "cell_type": "markdown",
      "source": [
        "### Inference"
      ],
      "metadata": {
        "id": "3Zcugara9-kS"
      },
      "id": "3Zcugara9-kS"
    },
    {
      "cell_type": "code",
      "source": [
        "def predict_mask(seq, top_k=5):\n",
        "    toks   = seq.split()\n",
        "    ids    = [token2id.get(t, 0) for t in toks]\n",
        "    pos    = toks.index(\"[MASK]\") if \"[MASK]\" in toks else 0\n",
        "    padded = pad_trunc(ids)\n",
        "    inp    = {\n",
        "        \"input_ids\": np.array([padded], dtype=np.int32),\n",
        "        \"mask_pos\":   np.array([pos],   dtype=np.int32)\n",
        "    }\n",
        "    logits = model.predict(inp)[0]\n",
        "    probs  = tf.nn.softmax(logits).numpy()\n",
        "    best   = np.argsort(probs)[-top_k:][::-1]\n",
        "    return [(id2token[i], float(probs[i])) for i in best]"
      ],
      "metadata": {
        "id": "--pJKAlj9-LF"
      },
      "id": "--pJKAlj9-LF",
      "execution_count": 16,
      "outputs": []
    },
    {
      "cell_type": "code",
      "source": [
        "print(predict_mask(\" -.-- --- ..- / -. . . -.. -.  - / -... . / [MASK] ..-. .-. .- .. -.. .-.-.-\"))"
      ],
      "metadata": {
        "colab": {
          "base_uri": "https://localhost:8080/"
        },
        "id": "z2UPYW5BbXjQ",
        "outputId": "f236b0d0-638f-404b-c551-b39c9c04d1ca"
      },
      "id": "z2UPYW5BbXjQ",
      "execution_count": 17,
      "outputs": [
        {
          "output_type": "stream",
          "name": "stdout",
          "text": [
            "\u001b[1m1/1\u001b[0m \u001b[32m━━━━━━━━━━━━━━━━━━━━\u001b[0m\u001b[37m\u001b[0m \u001b[1m0s\u001b[0m 37ms/step\n",
            "[('.-', 0.02332262322306633), ('.', 0.020652540028095245), ('---', 0.01976604014635086), ('..', 0.019397636875510216), ('nan', 0.019164850935339928)]\n"
          ]
        }
      ]
    }
  ],
  "metadata": {
    "kernelspec": {
      "display_name": "Python 3",
      "name": "python3"
    },
    "language_info": {
      "codemirror_mode": {
        "name": "ipython",
        "version": 3
      },
      "file_extension": ".py",
      "mimetype": "text/x-python",
      "name": "python",
      "nbconvert_exporter": "python",
      "pygments_lexer": "ipython3",
      "version": "3.12.2"
    },
    "colab": {
      "provenance": [],
      "gpuType": "T4"
    },
    "accelerator": "GPU"
  },
  "nbformat": 4,
  "nbformat_minor": 5
}