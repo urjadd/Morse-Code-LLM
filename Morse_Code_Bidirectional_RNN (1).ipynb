{
  "nbformat": 4,
  "nbformat_minor": 0,
  "metadata": {
    "colab": {
      "provenance": [],
      "gpuType": "T4"
    },
    "kernelspec": {
      "name": "python3",
      "display_name": "Python 3"
    },
    "language_info": {
      "name": "python"
    },
    "accelerator": "GPU"
  },
  "cells": [
    {
      "cell_type": "markdown",
      "source": [
        "### Import"
      ],
      "metadata": {
        "id": "lCCv7Rsl60yF"
      }
    },
    {
      "cell_type": "code",
      "source": [
        "import pandas as pd\n",
        "import numpy as np\n",
        "import tensorflow as tf\n",
        "import matplotlib.pyplot as plt\n",
        "from sklearn.model_selection import train_test_split\n",
        "from tensorflow.keras.regularizers import l2\n",
        "from tensorflow.keras.callbacks import EarlyStopping, ReduceLROnPlateau\n",
        "from tensorflow.keras.optimizers import AdamW\n",
        "from tensorflow.keras.layers import (\n",
        "    Input, Embedding, Bidirectional,\n",
        "    SimpleRNN, Dropout, Dense, Lambda\n",
        ")\n",
        "from tensorflow.keras.models import Model"
      ],
      "metadata": {
        "id": "qmzFEXFI6zhw"
      },
      "execution_count": 12,
      "outputs": []
    },
    {
      "cell_type": "markdown",
      "source": [
        "### Load and preprocess data"
      ],
      "metadata": {
        "id": "dAcvAO3c68N9"
      }
    },
    {
      "cell_type": "code",
      "source": [
        "df        = pd.read_csv('/content/Masked_morse_code_dataset.csv')\n",
        "sentences = df['morse_masked_sentences'].astype(str).tolist()\n",
        "labels    = df['labels'].astype(str).tolist()"
      ],
      "metadata": {
        "id": "ZWaJUI2Y66MO"
      },
      "execution_count": 2,
      "outputs": []
    },
    {
      "cell_type": "markdown",
      "source": [
        "### Align and Extract Mask Positions"
      ],
      "metadata": {
        "id": "DdDNHG9y7JP-"
      }
    },
    {
      "cell_type": "code",
      "source": [
        "# 3. Build vocab ↔ IDs\n",
        "all_tokens = set()\n",
        "for seq in sentences:\n",
        "    all_tokens.update(seq.split())\n",
        "all_tokens.update(labels)\n",
        "vocab     = sorted(all_tokens)\n",
        "token2id  = {tok: i for i, tok in enumerate(vocab)}\n",
        "id2token  = {i: tok for tok, i in token2id.items()}\n",
        "\n",
        "# 4. Encode & extract mask positions + label IDs\n",
        "encoded, mask_pos, label_ids = [], [], []\n",
        "for seq, lbl in zip(sentences, labels):\n",
        "    toks = seq.split()\n",
        "    ids  = [token2id[t] for t in toks]\n",
        "    encoded.append(ids)\n",
        "    mask_pos.append(toks.index('[MASK]'))\n",
        "    label_ids.append(token2id[lbl])\n",
        "\n",
        "# 5. Pad/truncate to fixed length\n",
        "MAXLEN = 128\n",
        "def pad_trunc(x):\n",
        "    return x[:MAXLEN] if len(x) >= MAXLEN else x + [0] * (MAXLEN - len(x))\n",
        "\n",
        "encoded   = np.array([pad_trunc(x) for x in encoded], dtype=np.int32)\n",
        "mask_pos  = np.array([min(p, MAXLEN-1) for p in mask_pos], dtype=np.int32)\n",
        "label_ids = np.array(label_ids, dtype=np.int32)"
      ],
      "metadata": {
        "id": "3d03a9wc7IL4"
      },
      "execution_count": 3,
      "outputs": []
    },
    {
      "cell_type": "markdown",
      "source": [
        "### Split the dataset in train and val datasets"
      ],
      "metadata": {
        "id": "yURssGX28RrU"
      }
    },
    {
      "cell_type": "code",
      "source": [
        "train_ids, val_ids, train_pos, val_pos, train_lbl, val_lbl = train_test_split(\n",
        "    encoded, mask_pos, label_ids,\n",
        "    test_size=0.2\n",
        ")\n",
        "\n",
        "BATCH_SIZE = 64\n",
        "def make_ds(ids, poses, lbls, shuffle=False):\n",
        "    ds = tf.data.Dataset.from_tensor_slices(\n",
        "        ({\"input_ids\": ids, \"mask_pos\": poses}, lbls)\n",
        "    )\n",
        "    if shuffle:\n",
        "        ds = ds.cache().shuffle(len(ids))\n",
        "    else:\n",
        "        ds = ds.cache()\n",
        "    return ds.batch(BATCH_SIZE).prefetch(tf.data.AUTOTUNE)\n",
        "\n",
        "train_ds = make_ds(train_ids, train_pos, train_lbl, shuffle=True)\n",
        "val_ds   = make_ds(val_ids,   val_pos,   val_lbl,   shuffle=False)"
      ],
      "metadata": {
        "id": "oNdjL9WV8RR8"
      },
      "execution_count": 4,
      "outputs": []
    },
    {
      "cell_type": "markdown",
      "source": [
        "### Model Definition"
      ],
      "metadata": {
        "id": "SxdgQNt18dNn"
      }
    },
    {
      "cell_type": "code",
      "execution_count": 5,
      "metadata": {
        "colab": {
          "base_uri": "https://localhost:8080/",
          "height": 513
        },
        "id": "4G2P53ojTcxQ",
        "outputId": "149d84f0-f1af-45e1-e68a-33cf93537b9d"
      },
      "outputs": [
        {
          "output_type": "display_data",
          "data": {
            "text/plain": [
              "\u001b[1mModel: \"functional\"\u001b[0m\n"
            ],
            "text/html": [
              "<pre style=\"white-space:pre;overflow-x:auto;line-height:normal;font-family:Menlo,'DejaVu Sans Mono',consolas,'Courier New',monospace\"><span style=\"font-weight: bold\">Model: \"functional\"</span>\n",
              "</pre>\n"
            ]
          },
          "metadata": {}
        },
        {
          "output_type": "display_data",
          "data": {
            "text/plain": [
              "┏━━━━━━━━━━━━━━━━━━━━━┳━━━━━━━━━━━━━━━━━━━┳━━━━━━━━━━━━┳━━━━━━━━━━━━━━━━━━━┓\n",
              "┃\u001b[1m \u001b[0m\u001b[1mLayer (type)       \u001b[0m\u001b[1m \u001b[0m┃\u001b[1m \u001b[0m\u001b[1mOutput Shape     \u001b[0m\u001b[1m \u001b[0m┃\u001b[1m \u001b[0m\u001b[1m   Param #\u001b[0m\u001b[1m \u001b[0m┃\u001b[1m \u001b[0m\u001b[1mConnected to     \u001b[0m\u001b[1m \u001b[0m┃\n",
              "┡━━━━━━━━━━━━━━━━━━━━━╇━━━━━━━━━━━━━━━━━━━╇━━━━━━━━━━━━╇━━━━━━━━━━━━━━━━━━━┩\n",
              "│ input_ids           │ (\u001b[38;5;45mNone\u001b[0m, \u001b[38;5;34m128\u001b[0m)       │          \u001b[38;5;34m0\u001b[0m │ -                 │\n",
              "│ (\u001b[38;5;33mInputLayer\u001b[0m)        │                   │            │                   │\n",
              "├─────────────────────┼───────────────────┼────────────┼───────────────────┤\n",
              "│ embedding           │ (\u001b[38;5;45mNone\u001b[0m, \u001b[38;5;34m128\u001b[0m, \u001b[38;5;34m128\u001b[0m)  │      \u001b[38;5;34m7,296\u001b[0m │ input_ids[\u001b[38;5;34m0\u001b[0m][\u001b[38;5;34m0\u001b[0m]   │\n",
              "│ (\u001b[38;5;33mEmbedding\u001b[0m)         │                   │            │                   │\n",
              "├─────────────────────┼───────────────────┼────────────┼───────────────────┤\n",
              "│ bidirectional       │ (\u001b[38;5;45mNone\u001b[0m, \u001b[38;5;34m128\u001b[0m, \u001b[38;5;34m128\u001b[0m)  │     \u001b[38;5;34m24,704\u001b[0m │ embedding[\u001b[38;5;34m0\u001b[0m][\u001b[38;5;34m0\u001b[0m]   │\n",
              "│ (\u001b[38;5;33mBidirectional\u001b[0m)     │                   │            │                   │\n",
              "├─────────────────────┼───────────────────┼────────────┼───────────────────┤\n",
              "│ dropout (\u001b[38;5;33mDropout\u001b[0m)   │ (\u001b[38;5;45mNone\u001b[0m, \u001b[38;5;34m128\u001b[0m, \u001b[38;5;34m128\u001b[0m)  │          \u001b[38;5;34m0\u001b[0m │ bidirectional[\u001b[38;5;34m0\u001b[0m]… │\n",
              "├─────────────────────┼───────────────────┼────────────┼───────────────────┤\n",
              "│ bidirectional_1     │ (\u001b[38;5;45mNone\u001b[0m, \u001b[38;5;34m128\u001b[0m, \u001b[38;5;34m128\u001b[0m)  │     \u001b[38;5;34m24,704\u001b[0m │ dropout[\u001b[38;5;34m0\u001b[0m][\u001b[38;5;34m0\u001b[0m]     │\n",
              "│ (\u001b[38;5;33mBidirectional\u001b[0m)     │                   │            │                   │\n",
              "├─────────────────────┼───────────────────┼────────────┼───────────────────┤\n",
              "│ dropout_1 (\u001b[38;5;33mDropout\u001b[0m) │ (\u001b[38;5;45mNone\u001b[0m, \u001b[38;5;34m128\u001b[0m, \u001b[38;5;34m128\u001b[0m)  │          \u001b[38;5;34m0\u001b[0m │ bidirectional_1[\u001b[38;5;34m…\u001b[0m │\n",
              "├─────────────────────┼───────────────────┼────────────┼───────────────────┤\n",
              "│ mask_pos            │ (\u001b[38;5;45mNone\u001b[0m)            │          \u001b[38;5;34m0\u001b[0m │ -                 │\n",
              "│ (\u001b[38;5;33mInputLayer\u001b[0m)        │                   │            │                   │\n",
              "├─────────────────────┼───────────────────┼────────────┼───────────────────┤\n",
              "│ lambda (\u001b[38;5;33mLambda\u001b[0m)     │ (\u001b[38;5;45mNone\u001b[0m, \u001b[38;5;34m128\u001b[0m)       │          \u001b[38;5;34m0\u001b[0m │ dropout_1[\u001b[38;5;34m0\u001b[0m][\u001b[38;5;34m0\u001b[0m],  │\n",
              "│                     │                   │            │ mask_pos[\u001b[38;5;34m0\u001b[0m][\u001b[38;5;34m0\u001b[0m]    │\n",
              "├─────────────────────┼───────────────────┼────────────┼───────────────────┤\n",
              "│ dense (\u001b[38;5;33mDense\u001b[0m)       │ (\u001b[38;5;45mNone\u001b[0m, \u001b[38;5;34m57\u001b[0m)        │      \u001b[38;5;34m7,353\u001b[0m │ lambda[\u001b[38;5;34m0\u001b[0m][\u001b[38;5;34m0\u001b[0m]      │\n",
              "└─────────────────────┴───────────────────┴────────────┴───────────────────┘\n"
            ],
            "text/html": [
              "<pre style=\"white-space:pre;overflow-x:auto;line-height:normal;font-family:Menlo,'DejaVu Sans Mono',consolas,'Courier New',monospace\">┏━━━━━━━━━━━━━━━━━━━━━┳━━━━━━━━━━━━━━━━━━━┳━━━━━━━━━━━━┳━━━━━━━━━━━━━━━━━━━┓\n",
              "┃<span style=\"font-weight: bold\"> Layer (type)        </span>┃<span style=\"font-weight: bold\"> Output Shape      </span>┃<span style=\"font-weight: bold\">    Param # </span>┃<span style=\"font-weight: bold\"> Connected to      </span>┃\n",
              "┡━━━━━━━━━━━━━━━━━━━━━╇━━━━━━━━━━━━━━━━━━━╇━━━━━━━━━━━━╇━━━━━━━━━━━━━━━━━━━┩\n",
              "│ input_ids           │ (<span style=\"color: #00d7ff; text-decoration-color: #00d7ff\">None</span>, <span style=\"color: #00af00; text-decoration-color: #00af00\">128</span>)       │          <span style=\"color: #00af00; text-decoration-color: #00af00\">0</span> │ -                 │\n",
              "│ (<span style=\"color: #0087ff; text-decoration-color: #0087ff\">InputLayer</span>)        │                   │            │                   │\n",
              "├─────────────────────┼───────────────────┼────────────┼───────────────────┤\n",
              "│ embedding           │ (<span style=\"color: #00d7ff; text-decoration-color: #00d7ff\">None</span>, <span style=\"color: #00af00; text-decoration-color: #00af00\">128</span>, <span style=\"color: #00af00; text-decoration-color: #00af00\">128</span>)  │      <span style=\"color: #00af00; text-decoration-color: #00af00\">7,296</span> │ input_ids[<span style=\"color: #00af00; text-decoration-color: #00af00\">0</span>][<span style=\"color: #00af00; text-decoration-color: #00af00\">0</span>]   │\n",
              "│ (<span style=\"color: #0087ff; text-decoration-color: #0087ff\">Embedding</span>)         │                   │            │                   │\n",
              "├─────────────────────┼───────────────────┼────────────┼───────────────────┤\n",
              "│ bidirectional       │ (<span style=\"color: #00d7ff; text-decoration-color: #00d7ff\">None</span>, <span style=\"color: #00af00; text-decoration-color: #00af00\">128</span>, <span style=\"color: #00af00; text-decoration-color: #00af00\">128</span>)  │     <span style=\"color: #00af00; text-decoration-color: #00af00\">24,704</span> │ embedding[<span style=\"color: #00af00; text-decoration-color: #00af00\">0</span>][<span style=\"color: #00af00; text-decoration-color: #00af00\">0</span>]   │\n",
              "│ (<span style=\"color: #0087ff; text-decoration-color: #0087ff\">Bidirectional</span>)     │                   │            │                   │\n",
              "├─────────────────────┼───────────────────┼────────────┼───────────────────┤\n",
              "│ dropout (<span style=\"color: #0087ff; text-decoration-color: #0087ff\">Dropout</span>)   │ (<span style=\"color: #00d7ff; text-decoration-color: #00d7ff\">None</span>, <span style=\"color: #00af00; text-decoration-color: #00af00\">128</span>, <span style=\"color: #00af00; text-decoration-color: #00af00\">128</span>)  │          <span style=\"color: #00af00; text-decoration-color: #00af00\">0</span> │ bidirectional[<span style=\"color: #00af00; text-decoration-color: #00af00\">0</span>]… │\n",
              "├─────────────────────┼───────────────────┼────────────┼───────────────────┤\n",
              "│ bidirectional_1     │ (<span style=\"color: #00d7ff; text-decoration-color: #00d7ff\">None</span>, <span style=\"color: #00af00; text-decoration-color: #00af00\">128</span>, <span style=\"color: #00af00; text-decoration-color: #00af00\">128</span>)  │     <span style=\"color: #00af00; text-decoration-color: #00af00\">24,704</span> │ dropout[<span style=\"color: #00af00; text-decoration-color: #00af00\">0</span>][<span style=\"color: #00af00; text-decoration-color: #00af00\">0</span>]     │\n",
              "│ (<span style=\"color: #0087ff; text-decoration-color: #0087ff\">Bidirectional</span>)     │                   │            │                   │\n",
              "├─────────────────────┼───────────────────┼────────────┼───────────────────┤\n",
              "│ dropout_1 (<span style=\"color: #0087ff; text-decoration-color: #0087ff\">Dropout</span>) │ (<span style=\"color: #00d7ff; text-decoration-color: #00d7ff\">None</span>, <span style=\"color: #00af00; text-decoration-color: #00af00\">128</span>, <span style=\"color: #00af00; text-decoration-color: #00af00\">128</span>)  │          <span style=\"color: #00af00; text-decoration-color: #00af00\">0</span> │ bidirectional_1[<span style=\"color: #00af00; text-decoration-color: #00af00\">…</span> │\n",
              "├─────────────────────┼───────────────────┼────────────┼───────────────────┤\n",
              "│ mask_pos            │ (<span style=\"color: #00d7ff; text-decoration-color: #00d7ff\">None</span>)            │          <span style=\"color: #00af00; text-decoration-color: #00af00\">0</span> │ -                 │\n",
              "│ (<span style=\"color: #0087ff; text-decoration-color: #0087ff\">InputLayer</span>)        │                   │            │                   │\n",
              "├─────────────────────┼───────────────────┼────────────┼───────────────────┤\n",
              "│ lambda (<span style=\"color: #0087ff; text-decoration-color: #0087ff\">Lambda</span>)     │ (<span style=\"color: #00d7ff; text-decoration-color: #00d7ff\">None</span>, <span style=\"color: #00af00; text-decoration-color: #00af00\">128</span>)       │          <span style=\"color: #00af00; text-decoration-color: #00af00\">0</span> │ dropout_1[<span style=\"color: #00af00; text-decoration-color: #00af00\">0</span>][<span style=\"color: #00af00; text-decoration-color: #00af00\">0</span>],  │\n",
              "│                     │                   │            │ mask_pos[<span style=\"color: #00af00; text-decoration-color: #00af00\">0</span>][<span style=\"color: #00af00; text-decoration-color: #00af00\">0</span>]    │\n",
              "├─────────────────────┼───────────────────┼────────────┼───────────────────┤\n",
              "│ dense (<span style=\"color: #0087ff; text-decoration-color: #0087ff\">Dense</span>)       │ (<span style=\"color: #00d7ff; text-decoration-color: #00d7ff\">None</span>, <span style=\"color: #00af00; text-decoration-color: #00af00\">57</span>)        │      <span style=\"color: #00af00; text-decoration-color: #00af00\">7,353</span> │ lambda[<span style=\"color: #00af00; text-decoration-color: #00af00\">0</span>][<span style=\"color: #00af00; text-decoration-color: #00af00\">0</span>]      │\n",
              "└─────────────────────┴───────────────────┴────────────┴───────────────────┘\n",
              "</pre>\n"
            ]
          },
          "metadata": {}
        },
        {
          "output_type": "display_data",
          "data": {
            "text/plain": [
              "\u001b[1m Total params: \u001b[0m\u001b[38;5;34m64,057\u001b[0m (250.22 KB)\n"
            ],
            "text/html": [
              "<pre style=\"white-space:pre;overflow-x:auto;line-height:normal;font-family:Menlo,'DejaVu Sans Mono',consolas,'Courier New',monospace\"><span style=\"font-weight: bold\"> Total params: </span><span style=\"color: #00af00; text-decoration-color: #00af00\">64,057</span> (250.22 KB)\n",
              "</pre>\n"
            ]
          },
          "metadata": {}
        },
        {
          "output_type": "display_data",
          "data": {
            "text/plain": [
              "\u001b[1m Trainable params: \u001b[0m\u001b[38;5;34m64,057\u001b[0m (250.22 KB)\n"
            ],
            "text/html": [
              "<pre style=\"white-space:pre;overflow-x:auto;line-height:normal;font-family:Menlo,'DejaVu Sans Mono',consolas,'Courier New',monospace\"><span style=\"font-weight: bold\"> Trainable params: </span><span style=\"color: #00af00; text-decoration-color: #00af00\">64,057</span> (250.22 KB)\n",
              "</pre>\n"
            ]
          },
          "metadata": {}
        },
        {
          "output_type": "display_data",
          "data": {
            "text/plain": [
              "\u001b[1m Non-trainable params: \u001b[0m\u001b[38;5;34m0\u001b[0m (0.00 B)\n"
            ],
            "text/html": [
              "<pre style=\"white-space:pre;overflow-x:auto;line-height:normal;font-family:Menlo,'DejaVu Sans Mono',consolas,'Courier New',monospace\"><span style=\"font-weight: bold\"> Non-trainable params: </span><span style=\"color: #00af00; text-decoration-color: #00af00\">0</span> (0.00 B)\n",
              "</pre>\n"
            ]
          },
          "metadata": {}
        }
      ],
      "source": [
        "vocab_size = len(vocab)\n",
        "embed_dim  = 128\n",
        "rnn_units  = 64\n",
        "drop_rate  = 0.5\n",
        "l2_reg     = 1e-4\n",
        "\n",
        "# 9. Build the network WITHOUT mask_zero so no RNN-mask is generated\n",
        "inp_ids = Input(shape=(MAXLEN,), name=\"input_ids\", dtype=tf.int32)\n",
        "inp_pos = Input(shape=(),      name=\"mask_pos\", dtype=tf.int32)\n",
        "\n",
        "x = Embedding(\n",
        "    input_dim=vocab_size,\n",
        "    output_dim=embed_dim,\n",
        "    mask_zero=False     # disable mask generation\n",
        ")(inp_ids)\n",
        "\n",
        "# Two fast CuDNN-backed SimpleRNN layers\n",
        "x = Bidirectional(SimpleRNN(\n",
        "    units=rnn_units,\n",
        "    return_sequences=True,\n",
        "    dropout=0.0,           # must be zero for CuDNN acceleration\n",
        "    kernel_regularizer=l2(l2_reg)\n",
        "))(x)\n",
        "x = Dropout(drop_rate)(x)\n",
        "x = Bidirectional(SimpleRNN(\n",
        "    units=rnn_units,\n",
        "    return_sequences=True,\n",
        "    dropout=0.0,\n",
        "    kernel_regularizer=l2(l2_reg)\n",
        "))(x)\n",
        "x = Dropout(drop_rate)(x)\n",
        "\n",
        "# Extract the hidden-state at mask_pos\n",
        "mask_repr = Lambda(\n",
        "    lambda args: tf.gather(args[0], args[1], axis=1, batch_dims=1),\n",
        "    output_shape=lambda shapes: (shapes[0][0], shapes[0][2])\n",
        ")([x, inp_pos])\n",
        "\n",
        "output = Dense(\n",
        "    units=vocab_size,\n",
        "    activation=\"softmax\",\n",
        "    kernel_regularizer=l2(l2_reg)\n",
        ")(mask_repr)\n",
        "\n",
        "model = Model([inp_ids, inp_pos], output)\n",
        "\n",
        "# 10. Compile with AdamW + weight decay + gradient clipping\n",
        "optimizer = AdamW(\n",
        "    learning_rate=5e-4,\n",
        "    weight_decay=1e-5,\n",
        "    clipnorm=1.0\n",
        ")\n",
        "model.compile(\n",
        "    optimizer=optimizer,\n",
        "    loss=\"sparse_categorical_crossentropy\",\n",
        "    metrics=[\"accuracy\"]\n",
        ")\n",
        "\n",
        "model.summary()"
      ]
    },
    {
      "cell_type": "markdown",
      "source": [
        "### Callbacks"
      ],
      "metadata": {
        "id": "4h156KZL8lKt"
      }
    },
    {
      "cell_type": "code",
      "source": [
        "callbacks = [\n",
        "    EarlyStopping(monitor=\"val_loss\", patience=3,\n",
        "                  restore_best_weights=True, verbose=1),\n",
        "    ReduceLROnPlateau(monitor=\"val_loss\", factor=0.5,\n",
        "                      patience=2, min_lr=1e-6, verbose=1)\n",
        "]"
      ],
      "metadata": {
        "id": "ySlBcbQO8kIq"
      },
      "execution_count": 6,
      "outputs": []
    },
    {
      "cell_type": "markdown",
      "source": [
        "### Train"
      ],
      "metadata": {
        "id": "h7Uj2F8e8tlo"
      }
    },
    {
      "cell_type": "code",
      "source": [
        "history = model.fit(\n",
        "    train_ds,\n",
        "    validation_data=val_ds,\n",
        "    epochs=100,  # early stop will kick in\n",
        "    callbacks=callbacks\n",
        ")"
      ],
      "metadata": {
        "colab": {
          "base_uri": "https://localhost:8080/"
        },
        "id": "GZcfRPo48nZf",
        "outputId": "12dda168-6073-4341-8a41-cdf22f1b6614"
      },
      "execution_count": 7,
      "outputs": [
        {
          "output_type": "stream",
          "name": "stdout",
          "text": [
            "Epoch 1/100\n",
            "\u001b[1m265/265\u001b[0m \u001b[32m━━━━━━━━━━━━━━━━━━━━\u001b[0m\u001b[37m\u001b[0m \u001b[1m26s\u001b[0m 62ms/step - accuracy: 0.0769 - loss: 3.6226 - val_accuracy: 0.1930 - val_loss: 2.9243 - learning_rate: 5.0000e-04\n",
            "Epoch 2/100\n",
            "\u001b[1m265/265\u001b[0m \u001b[32m━━━━━━━━━━━━━━━━━━━━\u001b[0m\u001b[37m\u001b[0m \u001b[1m11s\u001b[0m 42ms/step - accuracy: 0.1809 - loss: 2.9901 - val_accuracy: 0.2807 - val_loss: 2.5346 - learning_rate: 5.0000e-04\n",
            "Epoch 3/100\n",
            "\u001b[1m265/265\u001b[0m \u001b[32m━━━━━━━━━━━━━━━━━━━━\u001b[0m\u001b[37m\u001b[0m \u001b[1m20s\u001b[0m 39ms/step - accuracy: 0.2524 - loss: 2.6609 - val_accuracy: 0.3161 - val_loss: 2.3574 - learning_rate: 5.0000e-04\n",
            "Epoch 4/100\n",
            "\u001b[1m265/265\u001b[0m \u001b[32m━━━━━━━━━━━━━━━━━━━━\u001b[0m\u001b[37m\u001b[0m \u001b[1m10s\u001b[0m 39ms/step - accuracy: 0.2824 - loss: 2.4936 - val_accuracy: 0.3355 - val_loss: 2.2751 - learning_rate: 5.0000e-04\n",
            "Epoch 5/100\n",
            "\u001b[1m265/265\u001b[0m \u001b[32m━━━━━━━━━━━━━━━━━━━━\u001b[0m\u001b[37m\u001b[0m \u001b[1m10s\u001b[0m 39ms/step - accuracy: 0.3007 - loss: 2.4167 - val_accuracy: 0.3517 - val_loss: 2.2235 - learning_rate: 5.0000e-04\n",
            "Epoch 6/100\n",
            "\u001b[1m265/265\u001b[0m \u001b[32m━━━━━━━━━━━━━━━━━━━━\u001b[0m\u001b[37m\u001b[0m \u001b[1m21s\u001b[0m 40ms/step - accuracy: 0.3159 - loss: 2.3730 - val_accuracy: 0.3739 - val_loss: 2.1741 - learning_rate: 5.0000e-04\n",
            "Epoch 7/100\n",
            "\u001b[1m265/265\u001b[0m \u001b[32m━━━━━━━━━━━━━━━━━━━━\u001b[0m\u001b[37m\u001b[0m \u001b[1m11s\u001b[0m 41ms/step - accuracy: 0.3409 - loss: 2.2984 - val_accuracy: 0.3812 - val_loss: 2.1383 - learning_rate: 5.0000e-04\n",
            "Epoch 8/100\n",
            "\u001b[1m265/265\u001b[0m \u001b[32m━━━━━━━━━━━━━━━━━━━━\u001b[0m\u001b[37m\u001b[0m \u001b[1m20s\u001b[0m 40ms/step - accuracy: 0.3495 - loss: 2.2597 - val_accuracy: 0.3907 - val_loss: 2.1102 - learning_rate: 5.0000e-04\n",
            "Epoch 9/100\n",
            "\u001b[1m265/265\u001b[0m \u001b[32m━━━━━━━━━━━━━━━━━━━━\u001b[0m\u001b[37m\u001b[0m \u001b[1m11s\u001b[0m 41ms/step - accuracy: 0.3536 - loss: 2.2229 - val_accuracy: 0.3961 - val_loss: 2.0807 - learning_rate: 5.0000e-04\n",
            "Epoch 10/100\n",
            "\u001b[1m265/265\u001b[0m \u001b[32m━━━━━━━━━━━━━━━━━━━━\u001b[0m\u001b[37m\u001b[0m \u001b[1m20s\u001b[0m 39ms/step - accuracy: 0.3693 - loss: 2.1829 - val_accuracy: 0.3970 - val_loss: 2.0615 - learning_rate: 5.0000e-04\n",
            "Epoch 11/100\n",
            "\u001b[1m265/265\u001b[0m \u001b[32m━━━━━━━━━━━━━━━━━━━━\u001b[0m\u001b[37m\u001b[0m \u001b[1m10s\u001b[0m 39ms/step - accuracy: 0.3735 - loss: 2.1632 - val_accuracy: 0.4001 - val_loss: 2.0430 - learning_rate: 5.0000e-04\n",
            "Epoch 12/100\n",
            "\u001b[1m265/265\u001b[0m \u001b[32m━━━━━━━━━━━━━━━━━━━━\u001b[0m\u001b[37m\u001b[0m \u001b[1m11s\u001b[0m 41ms/step - accuracy: 0.3751 - loss: 2.1594 - val_accuracy: 0.4029 - val_loss: 2.0245 - learning_rate: 5.0000e-04\n",
            "Epoch 13/100\n",
            "\u001b[1m265/265\u001b[0m \u001b[32m━━━━━━━━━━━━━━━━━━━━\u001b[0m\u001b[37m\u001b[0m \u001b[1m11s\u001b[0m 41ms/step - accuracy: 0.3767 - loss: 2.1220 - val_accuracy: 0.4140 - val_loss: 2.0037 - learning_rate: 5.0000e-04\n",
            "Epoch 14/100\n",
            "\u001b[1m265/265\u001b[0m \u001b[32m━━━━━━━━━━━━━━━━━━━━\u001b[0m\u001b[37m\u001b[0m \u001b[1m21s\u001b[0m 41ms/step - accuracy: 0.3785 - loss: 2.1193 - val_accuracy: 0.4157 - val_loss: 1.9951 - learning_rate: 5.0000e-04\n",
            "Epoch 15/100\n",
            "\u001b[1m265/265\u001b[0m \u001b[32m━━━━━━━━━━━━━━━━━━━━\u001b[0m\u001b[37m\u001b[0m \u001b[1m11s\u001b[0m 41ms/step - accuracy: 0.3929 - loss: 2.1035 - val_accuracy: 0.4199 - val_loss: 1.9824 - learning_rate: 5.0000e-04\n",
            "Epoch 16/100\n",
            "\u001b[1m265/265\u001b[0m \u001b[32m━━━━━━━━━━━━━━━━━━━━\u001b[0m\u001b[37m\u001b[0m \u001b[1m10s\u001b[0m 39ms/step - accuracy: 0.3887 - loss: 2.0933 - val_accuracy: 0.4225 - val_loss: 1.9781 - learning_rate: 5.0000e-04\n",
            "Epoch 17/100\n",
            "\u001b[1m265/265\u001b[0m \u001b[32m━━━━━━━━━━━━━━━━━━━━\u001b[0m\u001b[37m\u001b[0m \u001b[1m10s\u001b[0m 39ms/step - accuracy: 0.4012 - loss: 2.0638 - val_accuracy: 0.4246 - val_loss: 1.9614 - learning_rate: 5.0000e-04\n",
            "Epoch 18/100\n",
            "\u001b[1m265/265\u001b[0m \u001b[32m━━━━━━━━━━━━━━━━━━━━\u001b[0m\u001b[37m\u001b[0m \u001b[1m10s\u001b[0m 39ms/step - accuracy: 0.4003 - loss: 2.0551 - val_accuracy: 0.4249 - val_loss: 1.9561 - learning_rate: 5.0000e-04\n",
            "Epoch 19/100\n",
            "\u001b[1m265/265\u001b[0m \u001b[32m━━━━━━━━━━━━━━━━━━━━\u001b[0m\u001b[37m\u001b[0m \u001b[1m11s\u001b[0m 41ms/step - accuracy: 0.4080 - loss: 2.0392 - val_accuracy: 0.4315 - val_loss: 1.9532 - learning_rate: 5.0000e-04\n",
            "Epoch 20/100\n",
            "\u001b[1m265/265\u001b[0m \u001b[32m━━━━━━━━━━━━━━━━━━━━\u001b[0m\u001b[37m\u001b[0m \u001b[1m21s\u001b[0m 41ms/step - accuracy: 0.4108 - loss: 2.0214 - val_accuracy: 0.4336 - val_loss: 1.9490 - learning_rate: 5.0000e-04\n",
            "Epoch 21/100\n",
            "\u001b[1m265/265\u001b[0m \u001b[32m━━━━━━━━━━━━━━━━━━━━\u001b[0m\u001b[37m\u001b[0m \u001b[1m20s\u001b[0m 40ms/step - accuracy: 0.4057 - loss: 2.0175 - val_accuracy: 0.4433 - val_loss: 1.9239 - learning_rate: 5.0000e-04\n",
            "Epoch 22/100\n",
            "\u001b[1m265/265\u001b[0m \u001b[32m━━━━━━━━━━━━━━━━━━━━\u001b[0m\u001b[37m\u001b[0m \u001b[1m11s\u001b[0m 40ms/step - accuracy: 0.4142 - loss: 2.0049 - val_accuracy: 0.4407 - val_loss: 1.9221 - learning_rate: 5.0000e-04\n",
            "Epoch 23/100\n",
            "\u001b[1m265/265\u001b[0m \u001b[32m━━━━━━━━━━━━━━━━━━━━\u001b[0m\u001b[37m\u001b[0m \u001b[1m10s\u001b[0m 39ms/step - accuracy: 0.4139 - loss: 2.0099 - val_accuracy: 0.4400 - val_loss: 1.9161 - learning_rate: 5.0000e-04\n",
            "Epoch 24/100\n",
            "\u001b[1m265/265\u001b[0m \u001b[32m━━━━━━━━━━━━━━━━━━━━\u001b[0m\u001b[37m\u001b[0m \u001b[1m21s\u001b[0m 42ms/step - accuracy: 0.4169 - loss: 2.0074 - val_accuracy: 0.4487 - val_loss: 1.9040 - learning_rate: 5.0000e-04\n",
            "Epoch 25/100\n",
            "\u001b[1m265/265\u001b[0m \u001b[32m━━━━━━━━━━━━━━━━━━━━\u001b[0m\u001b[37m\u001b[0m \u001b[1m11s\u001b[0m 41ms/step - accuracy: 0.4256 - loss: 1.9777 - val_accuracy: 0.4440 - val_loss: 1.9053 - learning_rate: 5.0000e-04\n",
            "Epoch 26/100\n",
            "\u001b[1m265/265\u001b[0m \u001b[32m━━━━━━━━━━━━━━━━━━━━\u001b[0m\u001b[37m\u001b[0m \u001b[1m21s\u001b[0m 41ms/step - accuracy: 0.4250 - loss: 1.9662 - val_accuracy: 0.4423 - val_loss: 1.8961 - learning_rate: 5.0000e-04\n",
            "Epoch 27/100\n",
            "\u001b[1m265/265\u001b[0m \u001b[32m━━━━━━━━━━━━━━━━━━━━\u001b[0m\u001b[37m\u001b[0m \u001b[1m20s\u001b[0m 39ms/step - accuracy: 0.4231 - loss: 1.9646 - val_accuracy: 0.4466 - val_loss: 1.8927 - learning_rate: 5.0000e-04\n",
            "Epoch 28/100\n",
            "\u001b[1m265/265\u001b[0m \u001b[32m━━━━━━━━━━━━━━━━━━━━\u001b[0m\u001b[37m\u001b[0m \u001b[1m10s\u001b[0m 39ms/step - accuracy: 0.4174 - loss: 1.9764 - val_accuracy: 0.4482 - val_loss: 1.8956 - learning_rate: 5.0000e-04\n",
            "Epoch 29/100\n",
            "\u001b[1m265/265\u001b[0m \u001b[32m━━━━━━━━━━━━━━━━━━━━\u001b[0m\u001b[37m\u001b[0m \u001b[1m10s\u001b[0m 39ms/step - accuracy: 0.4301 - loss: 1.9440 - val_accuracy: 0.4496 - val_loss: 1.8849 - learning_rate: 5.0000e-04\n",
            "Epoch 30/100\n",
            "\u001b[1m265/265\u001b[0m \u001b[32m━━━━━━━━━━━━━━━━━━━━\u001b[0m\u001b[37m\u001b[0m \u001b[1m11s\u001b[0m 41ms/step - accuracy: 0.4270 - loss: 1.9397 - val_accuracy: 0.4595 - val_loss: 1.8771 - learning_rate: 5.0000e-04\n",
            "Epoch 31/100\n",
            "\u001b[1m265/265\u001b[0m \u001b[32m━━━━━━━━━━━━━━━━━━━━\u001b[0m\u001b[37m\u001b[0m \u001b[1m10s\u001b[0m 40ms/step - accuracy: 0.4297 - loss: 1.9403 - val_accuracy: 0.4520 - val_loss: 1.8767 - learning_rate: 5.0000e-04\n",
            "Epoch 32/100\n",
            "\u001b[1m265/265\u001b[0m \u001b[32m━━━━━━━━━━━━━━━━━━━━\u001b[0m\u001b[37m\u001b[0m \u001b[1m11s\u001b[0m 40ms/step - accuracy: 0.4315 - loss: 1.9358 - val_accuracy: 0.4551 - val_loss: 1.8782 - learning_rate: 5.0000e-04\n",
            "Epoch 33/100\n",
            "\u001b[1m265/265\u001b[0m \u001b[32m━━━━━━━━━━━━━━━━━━━━\u001b[0m\u001b[37m\u001b[0m \u001b[1m20s\u001b[0m 40ms/step - accuracy: 0.4280 - loss: 1.9374 - val_accuracy: 0.4574 - val_loss: 1.8613 - learning_rate: 5.0000e-04\n",
            "Epoch 34/100\n",
            "\u001b[1m265/265\u001b[0m \u001b[32m━━━━━━━━━━━━━━━━━━━━\u001b[0m\u001b[37m\u001b[0m \u001b[1m10s\u001b[0m 39ms/step - accuracy: 0.4351 - loss: 1.9041 - val_accuracy: 0.4624 - val_loss: 1.8601 - learning_rate: 5.0000e-04\n",
            "Epoch 35/100\n",
            "\u001b[1m265/265\u001b[0m \u001b[32m━━━━━━━━━━━━━━━━━━━━\u001b[0m\u001b[37m\u001b[0m \u001b[1m11s\u001b[0m 41ms/step - accuracy: 0.4346 - loss: 1.9244 - val_accuracy: 0.4588 - val_loss: 1.8594 - learning_rate: 5.0000e-04\n",
            "Epoch 36/100\n",
            "\u001b[1m265/265\u001b[0m \u001b[32m━━━━━━━━━━━━━━━━━━━━\u001b[0m\u001b[37m\u001b[0m \u001b[1m20s\u001b[0m 40ms/step - accuracy: 0.4314 - loss: 1.9307 - val_accuracy: 0.4579 - val_loss: 1.8589 - learning_rate: 5.0000e-04\n",
            "Epoch 37/100\n",
            "\u001b[1m265/265\u001b[0m \u001b[32m━━━━━━━━━━━━━━━━━━━━\u001b[0m\u001b[37m\u001b[0m \u001b[1m21s\u001b[0m 42ms/step - accuracy: 0.4409 - loss: 1.9096 - val_accuracy: 0.4591 - val_loss: 1.8446 - learning_rate: 5.0000e-04\n",
            "Epoch 38/100\n",
            "\u001b[1m265/265\u001b[0m \u001b[32m━━━━━━━━━━━━━━━━━━━━\u001b[0m\u001b[37m\u001b[0m \u001b[1m11s\u001b[0m 41ms/step - accuracy: 0.4451 - loss: 1.8948 - val_accuracy: 0.4654 - val_loss: 1.8398 - learning_rate: 5.0000e-04\n",
            "Epoch 39/100\n",
            "\u001b[1m265/265\u001b[0m \u001b[32m━━━━━━━━━━━━━━━━━━━━\u001b[0m\u001b[37m\u001b[0m \u001b[1m11s\u001b[0m 41ms/step - accuracy: 0.4475 - loss: 1.8864 - val_accuracy: 0.4647 - val_loss: 1.8370 - learning_rate: 5.0000e-04\n",
            "Epoch 40/100\n",
            "\u001b[1m265/265\u001b[0m \u001b[32m━━━━━━━━━━━━━━━━━━━━\u001b[0m\u001b[37m\u001b[0m \u001b[1m21s\u001b[0m 42ms/step - accuracy: 0.4448 - loss: 1.8754 - val_accuracy: 0.4621 - val_loss: 1.8401 - learning_rate: 5.0000e-04\n",
            "Epoch 41/100\n",
            "\u001b[1m265/265\u001b[0m \u001b[32m━━━━━━━━━━━━━━━━━━━━\u001b[0m\u001b[37m\u001b[0m \u001b[1m0s\u001b[0m 36ms/step - accuracy: 0.4529 - loss: 1.8702\n",
            "Epoch 41: ReduceLROnPlateau reducing learning rate to 0.0002500000118743628.\n",
            "\u001b[1m265/265\u001b[0m \u001b[32m━━━━━━━━━━━━━━━━━━━━\u001b[0m\u001b[37m\u001b[0m \u001b[1m11s\u001b[0m 41ms/step - accuracy: 0.4529 - loss: 1.8702 - val_accuracy: 0.4605 - val_loss: 1.8390 - learning_rate: 5.0000e-04\n",
            "Epoch 42/100\n",
            "\u001b[1m265/265\u001b[0m \u001b[32m━━━━━━━━━━━━━━━━━━━━\u001b[0m\u001b[37m\u001b[0m \u001b[1m21s\u001b[0m 42ms/step - accuracy: 0.4508 - loss: 1.8553 - val_accuracy: 0.4758 - val_loss: 1.8130 - learning_rate: 2.5000e-04\n",
            "Epoch 43/100\n",
            "\u001b[1m265/265\u001b[0m \u001b[32m━━━━━━━━━━━━━━━━━━━━\u001b[0m\u001b[37m\u001b[0m \u001b[1m20s\u001b[0m 40ms/step - accuracy: 0.4473 - loss: 1.8550 - val_accuracy: 0.4737 - val_loss: 1.8128 - learning_rate: 2.5000e-04\n",
            "Epoch 44/100\n",
            "\u001b[1m265/265\u001b[0m \u001b[32m━━━━━━━━━━━━━━━━━━━━\u001b[0m\u001b[37m\u001b[0m \u001b[1m11s\u001b[0m 40ms/step - accuracy: 0.4597 - loss: 1.8275 - val_accuracy: 0.4765 - val_loss: 1.8127 - learning_rate: 2.5000e-04\n",
            "Epoch 45/100\n",
            "\u001b[1m265/265\u001b[0m \u001b[32m━━━━━━━━━━━━━━━━━━━━\u001b[0m\u001b[37m\u001b[0m \u001b[1m10s\u001b[0m 39ms/step - accuracy: 0.4661 - loss: 1.8226 - val_accuracy: 0.4735 - val_loss: 1.8058 - learning_rate: 2.5000e-04\n",
            "Epoch 46/100\n",
            "\u001b[1m265/265\u001b[0m \u001b[32m━━━━━━━━━━━━━━━━━━━━\u001b[0m\u001b[37m\u001b[0m \u001b[1m21s\u001b[0m 40ms/step - accuracy: 0.4684 - loss: 1.8297 - val_accuracy: 0.4820 - val_loss: 1.8095 - learning_rate: 2.5000e-04\n",
            "Epoch 47/100\n",
            "\u001b[1m265/265\u001b[0m \u001b[32m━━━━━━━━━━━━━━━━━━━━\u001b[0m\u001b[37m\u001b[0m \u001b[1m11s\u001b[0m 41ms/step - accuracy: 0.4578 - loss: 1.8324 - val_accuracy: 0.4751 - val_loss: 1.8052 - learning_rate: 2.5000e-04\n",
            "Epoch 48/100\n",
            "\u001b[1m265/265\u001b[0m \u001b[32m━━━━━━━━━━━━━━━━━━━━\u001b[0m\u001b[37m\u001b[0m \u001b[1m10s\u001b[0m 39ms/step - accuracy: 0.4697 - loss: 1.8203 - val_accuracy: 0.4744 - val_loss: 1.8052 - learning_rate: 2.5000e-04\n",
            "Epoch 49/100\n",
            "\u001b[1m265/265\u001b[0m \u001b[32m━━━━━━━━━━━━━━━━━━━━\u001b[0m\u001b[37m\u001b[0m \u001b[1m10s\u001b[0m 39ms/step - accuracy: 0.4648 - loss: 1.8156 - val_accuracy: 0.4779 - val_loss: 1.7954 - learning_rate: 2.5000e-04\n",
            "Epoch 50/100\n",
            "\u001b[1m265/265\u001b[0m \u001b[32m━━━━━━━━━━━━━━━━━━━━\u001b[0m\u001b[37m\u001b[0m \u001b[1m21s\u001b[0m 40ms/step - accuracy: 0.4633 - loss: 1.8141 - val_accuracy: 0.4798 - val_loss: 1.7966 - learning_rate: 2.5000e-04\n",
            "Epoch 51/100\n",
            "\u001b[1m265/265\u001b[0m \u001b[32m━━━━━━━━━━━━━━━━━━━━\u001b[0m\u001b[37m\u001b[0m \u001b[1m0s\u001b[0m 36ms/step - accuracy: 0.4695 - loss: 1.7999\n",
            "Epoch 51: ReduceLROnPlateau reducing learning rate to 0.0001250000059371814.\n",
            "\u001b[1m265/265\u001b[0m \u001b[32m━━━━━━━━━━━━━━━━━━━━\u001b[0m\u001b[37m\u001b[0m \u001b[1m11s\u001b[0m 41ms/step - accuracy: 0.4695 - loss: 1.8000 - val_accuracy: 0.4758 - val_loss: 1.7975 - learning_rate: 2.5000e-04\n",
            "Epoch 52/100\n",
            "\u001b[1m265/265\u001b[0m \u001b[32m━━━━━━━━━━━━━━━━━━━━\u001b[0m\u001b[37m\u001b[0m \u001b[1m11s\u001b[0m 41ms/step - accuracy: 0.4674 - loss: 1.7942 - val_accuracy: 0.4765 - val_loss: 1.7906 - learning_rate: 1.2500e-04\n",
            "Epoch 53/100\n",
            "\u001b[1m265/265\u001b[0m \u001b[32m━━━━━━━━━━━━━━━━━━━━\u001b[0m\u001b[37m\u001b[0m \u001b[1m20s\u001b[0m 40ms/step - accuracy: 0.4595 - loss: 1.8099 - val_accuracy: 0.4801 - val_loss: 1.7881 - learning_rate: 1.2500e-04\n",
            "Epoch 54/100\n",
            "\u001b[1m265/265\u001b[0m \u001b[32m━━━━━━━━━━━━━━━━━━━━\u001b[0m\u001b[37m\u001b[0m \u001b[1m10s\u001b[0m 39ms/step - accuracy: 0.4679 - loss: 1.8060 - val_accuracy: 0.4803 - val_loss: 1.7892 - learning_rate: 1.2500e-04\n",
            "Epoch 55/100\n",
            "\u001b[1m265/265\u001b[0m \u001b[32m━━━━━━━━━━━━━━━━━━━━\u001b[0m\u001b[37m\u001b[0m \u001b[1m11s\u001b[0m 42ms/step - accuracy: 0.4753 - loss: 1.7644 - val_accuracy: 0.4831 - val_loss: 1.7875 - learning_rate: 1.2500e-04\n",
            "Epoch 56/100\n",
            "\u001b[1m265/265\u001b[0m \u001b[32m━━━━━━━━━━━━━━━━━━━━\u001b[0m\u001b[37m\u001b[0m \u001b[1m10s\u001b[0m 39ms/step - accuracy: 0.4727 - loss: 1.8013 - val_accuracy: 0.4796 - val_loss: 1.7882 - learning_rate: 1.2500e-04\n",
            "Epoch 57/100\n",
            "\u001b[1m265/265\u001b[0m \u001b[32m━━━━━━━━━━━━━━━━━━━━\u001b[0m\u001b[37m\u001b[0m \u001b[1m10s\u001b[0m 39ms/step - accuracy: 0.4706 - loss: 1.7970 - val_accuracy: 0.4784 - val_loss: 1.7840 - learning_rate: 1.2500e-04\n",
            "Epoch 58/100\n",
            "\u001b[1m265/265\u001b[0m \u001b[32m━━━━━━━━━━━━━━━━━━━━\u001b[0m\u001b[37m\u001b[0m \u001b[1m10s\u001b[0m 39ms/step - accuracy: 0.4700 - loss: 1.7831 - val_accuracy: 0.4805 - val_loss: 1.7834 - learning_rate: 1.2500e-04\n",
            "Epoch 59/100\n",
            "\u001b[1m265/265\u001b[0m \u001b[32m━━━━━━━━━━━━━━━━━━━━\u001b[0m\u001b[37m\u001b[0m \u001b[1m11s\u001b[0m 41ms/step - accuracy: 0.4795 - loss: 1.7694 - val_accuracy: 0.4803 - val_loss: 1.7862 - learning_rate: 1.2500e-04\n",
            "Epoch 60/100\n",
            "\u001b[1m264/265\u001b[0m \u001b[32m━━━━━━━━━━━━━━━━━━━\u001b[0m\u001b[37m━\u001b[0m \u001b[1m0s\u001b[0m 37ms/step - accuracy: 0.4728 - loss: 1.7862\n",
            "Epoch 60: ReduceLROnPlateau reducing learning rate to 6.25000029685907e-05.\n",
            "\u001b[1m265/265\u001b[0m \u001b[32m━━━━━━━━━━━━━━━━━━━━\u001b[0m\u001b[37m\u001b[0m \u001b[1m20s\u001b[0m 39ms/step - accuracy: 0.4728 - loss: 1.7862 - val_accuracy: 0.4810 - val_loss: 1.7847 - learning_rate: 1.2500e-04\n",
            "Epoch 61/100\n",
            "\u001b[1m265/265\u001b[0m \u001b[32m━━━━━━━━━━━━━━━━━━━━\u001b[0m\u001b[37m\u001b[0m \u001b[1m20s\u001b[0m 40ms/step - accuracy: 0.4766 - loss: 1.7691 - val_accuracy: 0.4831 - val_loss: 1.7801 - learning_rate: 6.2500e-05\n",
            "Epoch 62/100\n",
            "\u001b[1m265/265\u001b[0m \u001b[32m━━━━━━━━━━━━━━━━━━━━\u001b[0m\u001b[37m\u001b[0m \u001b[1m20s\u001b[0m 40ms/step - accuracy: 0.4830 - loss: 1.7652 - val_accuracy: 0.4822 - val_loss: 1.7786 - learning_rate: 6.2500e-05\n",
            "Epoch 63/100\n",
            "\u001b[1m265/265\u001b[0m \u001b[32m━━━━━━━━━━━━━━━━━━━━\u001b[0m\u001b[37m\u001b[0m \u001b[1m21s\u001b[0m 43ms/step - accuracy: 0.4824 - loss: 1.7657 - val_accuracy: 0.4824 - val_loss: 1.7799 - learning_rate: 6.2500e-05\n",
            "Epoch 64/100\n",
            "\u001b[1m265/265\u001b[0m \u001b[32m━━━━━━━━━━━━━━━━━━━━\u001b[0m\u001b[37m\u001b[0m \u001b[1m0s\u001b[0m 37ms/step - accuracy: 0.4734 - loss: 1.7925\n",
            "Epoch 64: ReduceLROnPlateau reducing learning rate to 3.125000148429535e-05.\n",
            "\u001b[1m265/265\u001b[0m \u001b[32m━━━━━━━━━━━━━━━━━━━━\u001b[0m\u001b[37m\u001b[0m \u001b[1m20s\u001b[0m 42ms/step - accuracy: 0.4735 - loss: 1.7924 - val_accuracy: 0.4820 - val_loss: 1.7793 - learning_rate: 6.2500e-05\n",
            "Epoch 65/100\n",
            "\u001b[1m265/265\u001b[0m \u001b[32m━━━━━━━━━━━━━━━━━━━━\u001b[0m\u001b[37m\u001b[0m \u001b[1m10s\u001b[0m 40ms/step - accuracy: 0.4850 - loss: 1.7581 - val_accuracy: 0.4822 - val_loss: 1.7774 - learning_rate: 3.1250e-05\n",
            "Epoch 66/100\n",
            "\u001b[1m265/265\u001b[0m \u001b[32m━━━━━━━━━━━━━━━━━━━━\u001b[0m\u001b[37m\u001b[0m \u001b[1m10s\u001b[0m 39ms/step - accuracy: 0.4753 - loss: 1.7850 - val_accuracy: 0.4824 - val_loss: 1.7772 - learning_rate: 3.1250e-05\n",
            "Epoch 67/100\n",
            "\u001b[1m265/265\u001b[0m \u001b[32m━━━━━━━━━━━━━━━━━━━━\u001b[0m\u001b[37m\u001b[0m \u001b[1m10s\u001b[0m 39ms/step - accuracy: 0.4802 - loss: 1.7541 - val_accuracy: 0.4820 - val_loss: 1.7775 - learning_rate: 3.1250e-05\n",
            "Epoch 68/100\n",
            "\u001b[1m265/265\u001b[0m \u001b[32m━━━━━━━━━━━━━━━━━━━━\u001b[0m\u001b[37m\u001b[0m \u001b[1m21s\u001b[0m 42ms/step - accuracy: 0.4797 - loss: 1.7649 - val_accuracy: 0.4798 - val_loss: 1.7769 - learning_rate: 3.1250e-05\n",
            "Epoch 69/100\n",
            "\u001b[1m265/265\u001b[0m \u001b[32m━━━━━━━━━━━━━━━━━━━━\u001b[0m\u001b[37m\u001b[0m \u001b[1m10s\u001b[0m 39ms/step - accuracy: 0.4791 - loss: 1.7819 - val_accuracy: 0.4815 - val_loss: 1.7771 - learning_rate: 3.1250e-05\n",
            "Epoch 70/100\n",
            "\u001b[1m265/265\u001b[0m \u001b[32m━━━━━━━━━━━━━━━━━━━━\u001b[0m\u001b[37m\u001b[0m \u001b[1m0s\u001b[0m 36ms/step - accuracy: 0.4812 - loss: 1.7546\n",
            "Epoch 70: ReduceLROnPlateau reducing learning rate to 1.5625000742147677e-05.\n",
            "\u001b[1m265/265\u001b[0m \u001b[32m━━━━━━━━━━━━━━━━━━━━\u001b[0m\u001b[37m\u001b[0m \u001b[1m11s\u001b[0m 41ms/step - accuracy: 0.4812 - loss: 1.7546 - val_accuracy: 0.4827 - val_loss: 1.7771 - learning_rate: 3.1250e-05\n",
            "Epoch 71/100\n",
            "\u001b[1m265/265\u001b[0m \u001b[32m━━━━━━━━━━━━━━━━━━━━\u001b[0m\u001b[37m\u001b[0m \u001b[1m20s\u001b[0m 40ms/step - accuracy: 0.4754 - loss: 1.7729 - val_accuracy: 0.4808 - val_loss: 1.7768 - learning_rate: 1.5625e-05\n",
            "Epoch 72/100\n",
            "\u001b[1m265/265\u001b[0m \u001b[32m━━━━━━━━━━━━━━━━━━━━\u001b[0m\u001b[37m\u001b[0m \u001b[1m10s\u001b[0m 39ms/step - accuracy: 0.4782 - loss: 1.7802 - val_accuracy: 0.4812 - val_loss: 1.7767 - learning_rate: 1.5625e-05\n",
            "Epoch 73/100\n",
            "\u001b[1m265/265\u001b[0m \u001b[32m━━━━━━━━━━━━━━━━━━━━\u001b[0m\u001b[37m\u001b[0m \u001b[1m10s\u001b[0m 39ms/step - accuracy: 0.4821 - loss: 1.7671 - val_accuracy: 0.4829 - val_loss: 1.7767 - learning_rate: 1.5625e-05\n",
            "Epoch 74/100\n",
            "\u001b[1m265/265\u001b[0m \u001b[32m━━━━━━━━━━━━━━━━━━━━\u001b[0m\u001b[37m\u001b[0m \u001b[1m10s\u001b[0m 39ms/step - accuracy: 0.4806 - loss: 1.7666 - val_accuracy: 0.4796 - val_loss: 1.7760 - learning_rate: 1.5625e-05\n",
            "Epoch 75/100\n",
            "\u001b[1m265/265\u001b[0m \u001b[32m━━━━━━━━━━━━━━━━━━━━\u001b[0m\u001b[37m\u001b[0m \u001b[1m10s\u001b[0m 39ms/step - accuracy: 0.4794 - loss: 1.7741 - val_accuracy: 0.4808 - val_loss: 1.7763 - learning_rate: 1.5625e-05\n",
            "Epoch 76/100\n",
            "\u001b[1m265/265\u001b[0m \u001b[32m━━━━━━━━━━━━━━━━━━━━\u001b[0m\u001b[37m\u001b[0m \u001b[1m21s\u001b[0m 41ms/step - accuracy: 0.4756 - loss: 1.7713 - val_accuracy: 0.4817 - val_loss: 1.7759 - learning_rate: 1.5625e-05\n",
            "Epoch 77/100\n",
            "\u001b[1m265/265\u001b[0m \u001b[32m━━━━━━━━━━━━━━━━━━━━\u001b[0m\u001b[37m\u001b[0m \u001b[1m20s\u001b[0m 40ms/step - accuracy: 0.4802 - loss: 1.7573 - val_accuracy: 0.4808 - val_loss: 1.7767 - learning_rate: 1.5625e-05\n",
            "Epoch 78/100\n",
            "\u001b[1m265/265\u001b[0m \u001b[32m━━━━━━━━━━━━━━━━━━━━\u001b[0m\u001b[37m\u001b[0m \u001b[1m0s\u001b[0m 36ms/step - accuracy: 0.4791 - loss: 1.7748\n",
            "Epoch 78: ReduceLROnPlateau reducing learning rate to 7.812500371073838e-06.\n",
            "\u001b[1m265/265\u001b[0m \u001b[32m━━━━━━━━━━━━━━━━━━━━\u001b[0m\u001b[37m\u001b[0m \u001b[1m10s\u001b[0m 39ms/step - accuracy: 0.4791 - loss: 1.7747 - val_accuracy: 0.4808 - val_loss: 1.7759 - learning_rate: 1.5625e-05\n",
            "Epoch 79/100\n",
            "\u001b[1m265/265\u001b[0m \u001b[32m━━━━━━━━━━━━━━━━━━━━\u001b[0m\u001b[37m\u001b[0m \u001b[1m21s\u001b[0m 40ms/step - accuracy: 0.4863 - loss: 1.7356 - val_accuracy: 0.4812 - val_loss: 1.7759 - learning_rate: 7.8125e-06\n",
            "Epoch 80/100\n",
            "\u001b[1m265/265\u001b[0m \u001b[32m━━━━━━━━━━━━━━━━━━━━\u001b[0m\u001b[37m\u001b[0m \u001b[1m0s\u001b[0m 36ms/step - accuracy: 0.4867 - loss: 1.7512\n",
            "Epoch 80: ReduceLROnPlateau reducing learning rate to 3.906250185536919e-06.\n",
            "\u001b[1m265/265\u001b[0m \u001b[32m━━━━━━━━━━━━━━━━━━━━\u001b[0m\u001b[37m\u001b[0m \u001b[1m10s\u001b[0m 39ms/step - accuracy: 0.4867 - loss: 1.7513 - val_accuracy: 0.4820 - val_loss: 1.7761 - learning_rate: 7.8125e-06\n",
            "Epoch 81/100\n",
            "\u001b[1m265/265\u001b[0m \u001b[32m━━━━━━━━━━━━━━━━━━━━\u001b[0m\u001b[37m\u001b[0m \u001b[1m21s\u001b[0m 40ms/step - accuracy: 0.4794 - loss: 1.7534 - val_accuracy: 0.4824 - val_loss: 1.7762 - learning_rate: 3.9063e-06\n",
            "Epoch 81: early stopping\n",
            "Restoring model weights from the end of the best epoch: 78.\n"
          ]
        }
      ]
    },
    {
      "cell_type": "markdown",
      "source": [
        "### Evaluate"
      ],
      "metadata": {
        "id": "UZWS7-tj83VT"
      }
    },
    {
      "cell_type": "code",
      "source": [
        "loss, acc = model.evaluate(val_ds)\n",
        "print(f\"\\nValidation loss = {loss:.3f}, accuracy = {acc:.3f}\")"
      ],
      "metadata": {
        "colab": {
          "base_uri": "https://localhost:8080/"
        },
        "id": "myaUoZmW8vEf",
        "outputId": "0fe57148-766f-415b-91d8-969ffc4291b0"
      },
      "execution_count": 8,
      "outputs": [
        {
          "output_type": "stream",
          "name": "stdout",
          "text": [
            "\u001b[1m67/67\u001b[0m \u001b[32m━━━━━━━━━━━━━━━━━━━━\u001b[0m\u001b[37m\u001b[0m \u001b[1m1s\u001b[0m 12ms/step - accuracy: 0.4755 - loss: 1.8003\n",
            "\n",
            "Validation loss = 1.776, accuracy = 0.481\n"
          ]
        }
      ]
    },
    {
      "cell_type": "markdown",
      "source": [
        "### Graphs"
      ],
      "metadata": {
        "id": "xfdAfFaq819S"
      }
    },
    {
      "cell_type": "code",
      "source": [
        "plt.figure(figsize=(12, 4))\n",
        "plt.subplot(1, 2, 1)\n",
        "plt.plot(history.history['accuracy'])\n",
        "plt.plot(history.history['val_accuracy'])\n",
        "plt.title('Model Accuracy')\n",
        "plt.ylabel('Accuracy')\n",
        "plt.xlabel('Epoch')\n",
        "plt.legend(['Train', 'Validation'], loc='upper left')\n",
        "\n",
        "plt.subplot(1, 2, 2)\n",
        "plt.plot(history.history['loss'])\n",
        "plt.plot(history.history['val_loss'])\n",
        "plt.title('Model Loss')\n",
        "plt.ylabel('Loss')\n",
        "plt.xlabel('Epoch')\n",
        "plt.legend(['Train', 'Validation'], loc='upper left')\n",
        "plt.show()"
      ],
      "metadata": {
        "colab": {
          "base_uri": "https://localhost:8080/",
          "height": 410
        },
        "id": "aSZaP2XHTsDE",
        "outputId": "870703ff-5fbb-468f-ea21-7962c3472026"
      },
      "execution_count": 9,
      "outputs": [
        {
          "output_type": "display_data",
          "data": {
            "text/plain": [
              "<Figure size 1200x400 with 2 Axes>"
            ],
            "image/png": "[encoded data removed]"
          },
          "metadata": {}
        }
      ]
    },
    {
      "cell_type": "markdown",
      "source": [
        "### Inference"
      ],
      "metadata": {
        "id": "dvtkZfAN8z09"
      }
    },
    {
      "cell_type": "code",
      "source": [
        "def predict_mask(seq, top_k=5):\n",
        "    toks   = seq.split()\n",
        "    ids    = [token2id.get(t, 0) for t in toks]\n",
        "    pos    = toks.index(\"[MASK]\") if \"[MASK]\" in toks else 0\n",
        "    padded = pad_trunc(ids)\n",
        "    inp    = {\n",
        "        \"input_ids\": np.array([padded], dtype=np.int32),\n",
        "        \"mask_pos\":   np.array([pos],   dtype=np.int32)\n",
        "    }\n",
        "    logits = model.predict(inp)[0]\n",
        "    probs  = tf.nn.softmax(logits).numpy()\n",
        "    best   = np.argsort(probs)[-top_k:][::-1]\n",
        "    return [(id2token[i], float(probs[i])) for i in best]"
      ],
      "metadata": {
        "id": "fiMK_IY48yIy"
      },
      "execution_count": 10,
      "outputs": []
    },
    {
      "cell_type": "code",
      "source": [
        "print(predict_mask(\" -.-- --- ..- / -. . . -.. -.  - / -... . / [MASK] ..-. .-. .- .. -.. .-.-.-\"))"
      ],
      "metadata": {
        "colab": {
          "base_uri": "https://localhost:8080/"
        },
        "id": "Jivgw-eFTwRn",
        "outputId": "0a92b1bb-e2d2-4fc4-8428-a090f4e7857b"
      },
      "execution_count": 11,
      "outputs": [
        {
          "output_type": "stream",
          "name": "stdout",
          "text": [
            "\u001b[1m1/1\u001b[0m \u001b[32m━━━━━━━━━━━━━━━━━━━━\u001b[0m\u001b[37m\u001b[0m \u001b[1m1s\u001b[0m 920ms/step\n",
            "[('.-', 0.02409418672323227), ('---', 0.01937221921980381), ('..-.', 0.0187422763556242), ('...', 0.018612997606396675), ('-', 0.018485600128769875)]\n"
          ]
        }
      ]
    }
  ]
}