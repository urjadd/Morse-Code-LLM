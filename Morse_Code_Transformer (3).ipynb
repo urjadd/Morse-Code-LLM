{
  "nbformat": 4,
  "nbformat_minor": 0,
  "metadata": {
    "colab": {
      "provenance": [],
      "gpuType": "A100"
    },
    "kernelspec": {
      "name": "python3",
      "display_name": "Python 3"
    },
    "language_info": {
      "name": "python"
    },
    "accelerator": "GPU"
  },
  "cells": [
    {
      "cell_type": "markdown",
      "source": [
        "### Imports"
      ],
      "metadata": {
        "id": "3pezGMIU31Ac"
      }
    },
    {
      "cell_type": "code",
      "source": [
        "import os\n",
        "import pandas as pd\n",
        "import torch\n",
        "import torch.nn as nn\n",
        "from torch.utils.data import Dataset\n",
        "from datasets import Dataset as HFDataset, DatasetDict\n",
        "from transformers import (\n",
        "    PretrainedConfig,\n",
        "    PreTrainedModel,\n",
        "    Trainer,\n",
        "    TrainingArguments,\n",
        ")\n",
        "from transformers.modeling_outputs import MaskedLMOutput\n",
        "from typing import Optional, Union, Dict, Any, List\n",
        "import numpy as np\n",
        "from sklearn.metrics import accuracy_score\n",
        "from transformers import EarlyStoppingCallback\n",
        "import random"
      ],
      "metadata": {
        "id": "PNVMXhfz17HO"
      },
      "execution_count": 16,
      "outputs": []
    },
    {
      "cell_type": "markdown",
      "source": [
        "### Configuration"
      ],
      "metadata": {
        "id": "UuRFicz41_k5"
      }
    },
    {
      "cell_type": "code",
      "source": [
        "DATA_PATH = \"/content/Masked_morse_code_dataset.csv\"\n",
        "OUTPUT_DIR = \"./morse_mlm_out\"\n",
        "MAX_LEN = 128\n",
        "EMBED_DIM = 256\n",
        "NUM_HEADS = 8\n",
        "HIDDEN_DIM = 512\n",
        "NUM_LAYERS = 4\n",
        "DROPOUT = 0.1\n",
        "BATCH_SIZE = 32\n",
        "NUM_EPOCHS = 50\n",
        "LR = 3e-4\n",
        "MASK_PROB = 0.15\n",
        "DEVICE = \"cuda\" if torch.cuda.is_available() else \"cpu\""
      ],
      "metadata": {
        "id": "8dV82JABgg0C"
      },
      "execution_count": 2,
      "outputs": []
    },
    {
      "cell_type": "markdown",
      "source": [
        "## Load Dataset and Intialize Custom Tokenizer"
      ],
      "metadata": {
        "id": "NjjjVmcl2JLK"
      }
    },
    {
      "cell_type": "code",
      "source": [
        "df = pd.read_csv(DATA_PATH).dropna(subset=[\"morse_masked_sentences\", \"labels\"])\n",
        "# build token set\n",
        "tokens = set()\n",
        "for sent in df[\"morse_masked_sentences\"]:\n",
        "    tokens.update(sent.split())\n",
        "# ensure [MASK] and PAD\n",
        "tokens.add(\"[MASK]\")\n",
        "tokens.add(\"[PAD]\")\n",
        "token2id = {tok: i for i, tok in enumerate(sorted(tokens))}\n",
        "id2token = {i: t for t, i in token2id.items()}\n",
        "VOCAB_SIZE = len(token2id)"
      ],
      "metadata": {
        "id": "oJTkMLPo2GHg"
      },
      "execution_count": 3,
      "outputs": []
    },
    {
      "cell_type": "markdown",
      "source": [
        "### Align lables and introduce multiple [MASK] tokens for faster training"
      ],
      "metadata": {
        "id": "0Vh5O35M2ZBm"
      }
    },
    {
      "cell_type": "code",
      "source": [
        "class MultiMaskMorseDataset(Dataset):\n",
        "    def __init__(\n",
        "        self,\n",
        "        data: pd.DataFrame,\n",
        "        token2id: Dict[str,int],\n",
        "        max_len: int,\n",
        "        mask_prob: float = 0.15,\n",
        "    ):\n",
        "        self.sents     = data[\"morse_masked_sentences\"].tolist()\n",
        "        self.labels    = data[\"labels\"].tolist()\n",
        "        self.t2i       = token2id\n",
        "        self.max_len   = max_len\n",
        "        self.mask_prob = mask_prob\n",
        "        self.pad_id    = token2id[\"[PAD]\"]\n",
        "        self.mask_id   = token2id[\"[MASK]\"]\n",
        "\n",
        "    def __len__(self):\n",
        "        return len(self.sents)\n",
        "\n",
        "    def __getitem__(self, idx):\n",
        "        # 1) split & restore the one true token\n",
        "        toks     = self.sents[idx].split()\n",
        "        mask_pos = toks.index(\"[MASK]\")\n",
        "        orig_tok = toks.copy()\n",
        "        orig_tok[mask_pos] = self.labels[idx]\n",
        "\n",
        "        # 2) truncate or pad the token list to exactly max_len\n",
        "        if len(orig_tok) >= self.max_len:\n",
        "            orig_tok = orig_tok[: self.max_len]\n",
        "        # else we’ll pad after masking\n",
        "\n",
        "        seq_len   = len(orig_tok)\n",
        "        orig_ids  = [ self.t2i.get(t, self.pad_id) for t in orig_tok ]\n",
        "\n",
        "        # 3) pick mask positions (include original, plus random others)\n",
        "        n_to_mask   = max(1, int(seq_len * self.mask_prob))\n",
        "        other_idxs  = [i for i in range(seq_len) if i != mask_pos]\n",
        "        extra_masks = random.sample(other_idxs, n_to_mask - 1)\n",
        "        mask_idxs   = extra_masks + [min(mask_pos, seq_len - 1)]\n",
        "\n",
        "        # 4) prepare input_ids & labels (init all -100)\n",
        "        input_ids     = orig_ids.copy()\n",
        "        labels       = [-100] * self.max_len\n",
        "        for m in mask_idxs:\n",
        "            labels[m]     = orig_ids[m]\n",
        "            input_ids[m]  = self.mask_id\n",
        "\n",
        "        # 5) pad input_ids & attention_mask to max_len\n",
        "        attention_mask = [1] * seq_len\n",
        "        if seq_len < self.max_len:\n",
        "            pad_len = self.max_len - seq_len\n",
        "            input_ids     += [self.pad_id]    * pad_len\n",
        "            attention_mask+= [0]              * pad_len\n",
        "            # labels already has length max_len\n",
        "        else:\n",
        "            attention_mask = attention_mask[: self.max_len]\n",
        "\n",
        "        return {\n",
        "            \"input_ids\":      torch.tensor(input_ids,      dtype=torch.long),\n",
        "            \"attention_mask\": torch.tensor(attention_mask, dtype=torch.long),\n",
        "            \"labels\":         torch.tensor(labels,         dtype=torch.long),\n",
        "        }"
      ],
      "metadata": {
        "id": "CGp7rNy82Xzu"
      },
      "execution_count": 4,
      "outputs": []
    },
    {
      "cell_type": "markdown",
      "source": [
        "### Split data in train and val datasets"
      ],
      "metadata": {
        "id": "U3umHzA62p7t"
      }
    },
    {
      "cell_type": "code",
      "source": [
        "# split train/val\n",
        "train_df = df.sample(frac=0.8)\n",
        "val_df = df.drop(train_df.index)\n",
        "train_ds = MultiMaskMorseDataset(train_df, token2id, MAX_LEN, mask_prob=0.15)\n",
        "val_ds   = MultiMaskMorseDataset(val_df,   token2id, MAX_LEN, mask_prob=0.15)"
      ],
      "metadata": {
        "id": "TLFVCj062pEo"
      },
      "execution_count": 5,
      "outputs": []
    },
    {
      "cell_type": "markdown",
      "source": [
        "### Model Definition"
      ],
      "metadata": {
        "id": "GKoi3zd520gi"
      }
    },
    {
      "cell_type": "code",
      "source": [
        "# 4) MODEL DEFINITION\n",
        "class MorseConfig(PretrainedConfig):\n",
        "    model_type = \"morse-transformer\"\n",
        "    def __init__(\n",
        "        self,\n",
        "        vocab_size: int = VOCAB_SIZE,\n",
        "        hidden_size: int = EMBED_DIM,\n",
        "        num_hidden_layers: int = NUM_LAYERS,\n",
        "        num_attention_heads: int = NUM_HEADS,\n",
        "        intermediate_size: int = HIDDEN_DIM,\n",
        "        max_position_embeddings: int = MAX_LEN,\n",
        "        dropout: float = DROPOUT,\n",
        "        **kwargs\n",
        "    ):\n",
        "        super().__init__(**kwargs)\n",
        "        self.vocab_size = vocab_size\n",
        "        self.hidden_size = hidden_size\n",
        "        self.num_hidden_layers = num_hidden_layers\n",
        "        self.num_attention_heads = num_attention_heads\n",
        "        self.intermediate_size = intermediate_size\n",
        "        self.max_position_embeddings = max_position_embeddings\n",
        "        self.dropout = dropout\n",
        "\n",
        "class MorseForMaskedLM(PreTrainedModel):\n",
        "    config_class = MorseConfig\n",
        "\n",
        "    def __init__(self, config: MorseConfig):\n",
        "        super().__init__(config)\n",
        "        self.token_embeddings = nn.Embedding(config.vocab_size, config.hidden_size)\n",
        "        self.position_embeddings = nn.Embedding(config.max_position_embeddings, config.hidden_size)\n",
        "        encoder_layer = nn.TransformerEncoderLayer(\n",
        "            d_model=config.hidden_size,\n",
        "            nhead=config.num_attention_heads,\n",
        "            dim_feedforward=config.intermediate_size,\n",
        "            dropout=config.dropout,\n",
        "            batch_first=True,\n",
        "        )\n",
        "        self.encoder = nn.TransformerEncoder(encoder_layer, config.num_hidden_layers)\n",
        "        self.dropout = nn.Dropout(config.dropout)\n",
        "        self.lm_head = nn.Linear(config.hidden_size, config.vocab_size)\n",
        "\n",
        "        # initialize weights\n",
        "        self.init_weights()\n",
        "\n",
        "    def forward(\n",
        "        self,\n",
        "        input_ids: torch.LongTensor,\n",
        "        attention_mask: Optional[torch.LongTensor] = None,\n",
        "        labels: Optional[torch.LongTensor] = None,\n",
        "    ) -> Union[MaskedLMOutput, tuple]:\n",
        "        bsz, seq_len = input_ids.size()\n",
        "\n",
        "        # embeddings + positions\n",
        "        pos_ids = torch.arange(seq_len, device=input_ids.device).unsqueeze(0).expand(bsz, -1)\n",
        "        x = self.token_embeddings(input_ids) + self.position_embeddings(pos_ids)\n",
        "        x = self.dropout(x)\n",
        "\n",
        "        # transformer encoder\n",
        "        # key_padding_mask expects True for tokens to mask\n",
        "        pad_mask = attention_mask == 0 if attention_mask is not None else None\n",
        "        x = self.encoder(x, src_key_padding_mask=pad_mask)\n",
        "\n",
        "        logits = self.lm_head(x)\n",
        "\n",
        "        loss = None\n",
        "        if labels is not None:\n",
        "            loss_fct = nn.CrossEntropyLoss(ignore_index=-100)\n",
        "            loss = loss_fct(logits.view(-1, self.config.vocab_size), labels.view(-1))\n",
        "\n",
        "        return MaskedLMOutput(loss=loss, logits=logits)"
      ],
      "metadata": {
        "id": "MaK0DI5b20GX"
      },
      "execution_count": 6,
      "outputs": []
    },
    {
      "cell_type": "markdown",
      "source": [
        "### Training Arguments"
      ],
      "metadata": {
        "id": "CIGAYW0r27wI"
      }
    },
    {
      "cell_type": "code",
      "source": [
        "config = MorseConfig()\n",
        "model = MorseForMaskedLM(config).to(DEVICE)\n",
        "\n",
        "def compute_metrics(eval_pred):\n",
        "    logits, labels = eval_pred\n",
        "    # flatten predictions & labels\n",
        "    preds = np.argmax(logits, axis=-1).flatten()\n",
        "    labels = labels.flatten()\n",
        "    # ignore all the -100s in the labels\n",
        "    mask = labels != -100\n",
        "    return {\n",
        "        \"accuracy\": accuracy_score(labels[mask], preds[mask])\n",
        "    }\n",
        "\n",
        "training_args = TrainingArguments(\n",
        "    output_dir=OUTPUT_DIR,\n",
        "    overwrite_output_dir=True,\n",
        "    num_train_epochs=NUM_EPOCHS,\n",
        "    per_device_train_batch_size=BATCH_SIZE,\n",
        "    per_device_eval_batch_size=BATCH_SIZE,\n",
        "    eval_strategy=\"epoch\",\n",
        "    save_strategy=\"epoch\",\n",
        "    learning_rate=LR,\n",
        "    warmup_steps=200,\n",
        "    lr_scheduler_type=\"linear\",\n",
        "    weight_decay=0.01,\n",
        "    logging_strategy=\"epoch\",\n",
        "    push_to_hub=False,\n",
        "    load_best_model_at_end=True,\n",
        "    greater_is_better=False,\n",
        ")\n",
        "\n",
        "trainer = Trainer(\n",
        "    model=model,\n",
        "    args=training_args,\n",
        "    train_dataset=train_ds,\n",
        "    eval_dataset=val_ds,\n",
        "    compute_metrics=compute_metrics,\n",
        "    callbacks=[EarlyStoppingCallback(early_stopping_patience=3)],\n",
        ")"
      ],
      "metadata": {
        "id": "MyUxp6lo229O"
      },
      "execution_count": 7,
      "outputs": []
    },
    {
      "cell_type": "markdown",
      "source": [
        "### Execute Training"
      ],
      "metadata": {
        "id": "47aQaDOV3CWQ"
      }
    },
    {
      "cell_type": "code",
      "source": [
        "train_result = trainer.train()\n",
        "eval_result  = trainer.evaluate()\n",
        "trainer.save_model(OUTPUT_DIR)"
      ],
      "metadata": {
        "colab": {
          "base_uri": "https://localhost:8080/",
          "height": 1000
        },
        "id": "olyxy0w6is5x",
        "outputId": "4285fcb5-4ec0-4357-ac80-cadd832d2ff8",
        "collapsed": true
      },
      "execution_count": 8,
      "outputs": [
        {
          "output_type": "stream",
          "name": "stderr",
          "text": [
            "\u001b[34m\u001b[1mwandb\u001b[0m: \u001b[33mWARNING\u001b[0m The `run_name` is currently set to the same value as `TrainingArguments.output_dir`. If this was not intended, please specify a different run name by setting the `TrainingArguments.run_name` parameter.\n"
          ]
        },
        {
          "output_type": "display_data",
          "data": {
            "text/plain": [
              "<IPython.core.display.Javascript object>"
            ],
            "application/javascript": [
              "\n",
              "        window._wandbApiKey = new Promise((resolve, reject) => {\n",
              "            function loadScript(url) {\n",
              "            return new Promise(function(resolve, reject) {\n",
              "                let newScript = document.createElement(\"script\");\n",
              "                newScript.onerror = reject;\n",
              "                newScript.onload = resolve;\n",
              "                document.body.appendChild(newScript);\n",
              "                newScript.src = url;\n",
              "            });\n",
              "            }\n",
              "            loadScript(\"https://cdn.jsdelivr.net/npm/postmate/build/postmate.min.js\").then(() => {\n",
              "            const iframe = document.createElement('iframe')\n",
              "            iframe.style.cssText = \"width:0;height:0;border:none\"\n",
              "            document.body.appendChild(iframe)\n",
              "            const handshake = new Postmate({\n",
              "                container: iframe,\n",
              "                url: 'https://wandb.ai/authorize'\n",
              "            });\n",
              "            const timeout = setTimeout(() => reject(\"Couldn't auto authenticate\"), 5000)\n",
              "            handshake.then(function(child) {\n",
              "                child.on('authorize', data => {\n",
              "                    clearTimeout(timeout)\n",
              "                    resolve(data)\n",
              "                });\n",
              "            });\n",
              "            })\n",
              "        });\n",
              "    "
            ]
          },
          "metadata": {}
        },
        {
          "output_type": "stream",
          "name": "stderr",
          "text": [
            "\u001b[34m\u001b[1mwandb\u001b[0m: Logging into wandb.ai. (Learn how to deploy a W&B server locally: https://wandb.me/wandb-server)\n",
            "\u001b[34m\u001b[1mwandb\u001b[0m: You can find your API key in your browser here: https://wandb.ai/authorize?ref=models\n",
            "wandb: Paste an API key from your profile and hit enter:"
          ]
        },
        {
          "name": "stdout",
          "output_type": "stream",
          "text": [
            " ··········\n"
          ]
        },
        {
          "output_type": "stream",
          "name": "stderr",
          "text": [
            "\u001b[34m\u001b[1mwandb\u001b[0m: \u001b[33mWARNING\u001b[0m If you're specifying your api key in code, ensure this code is not shared publicly.\n",
            "\u001b[34m\u001b[1mwandb\u001b[0m: \u001b[33mWARNING\u001b[0m Consider setting the WANDB_API_KEY environment variable, or running `wandb login` from the command line.\n",
            "\u001b[34m\u001b[1mwandb\u001b[0m: No netrc file found, creating one.\n",
            "\u001b[34m\u001b[1mwandb\u001b[0m: Appending key for api.wandb.ai to your netrc file: /root/.netrc\n",
            "\u001b[34m\u001b[1mwandb\u001b[0m: Currently logged in as: \u001b[33mnishant1695\u001b[0m (\u001b[33mboston_univ\u001b[0m) to \u001b[32mhttps://api.wandb.ai\u001b[0m. Use \u001b[1m`wandb login --relogin`\u001b[0m to force relogin\n"
          ]
        },
        {
          "output_type": "display_data",
          "data": {
            "text/plain": [
              "<IPython.core.display.HTML object>"
            ],
            "text/html": [
              "Tracking run with wandb version 0.20.1"
            ]
          },
          "metadata": {}
        },
        {
          "output_type": "display_data",
          "data": {
            "text/plain": [
              "<IPython.core.display.HTML object>"
            ],
            "text/html": [
              "Run data is saved locally in <code>/content/wandb/run-20250620_013825-61zkep8r</code>"
            ]
          },
          "metadata": {}
        },
        {
          "output_type": "display_data",
          "data": {
            "text/plain": [
              "<IPython.core.display.HTML object>"
            ],
            "text/html": [
              "Syncing run <strong><a href='https://wandb.ai/boston_univ/huggingface/runs/61zkep8r' target=\"_blank\">./morse_mlm_out</a></strong> to <a href='https://wandb.ai/boston_univ/huggingface' target=\"_blank\">Weights & Biases</a> (<a href='https://wandb.me/developer-guide' target=\"_blank\">docs</a>)<br>"
            ]
          },
          "metadata": {}
        },
        {
          "output_type": "display_data",
          "data": {
            "text/plain": [
              "<IPython.core.display.HTML object>"
            ],
            "text/html": [
              " View project at <a href='https://wandb.ai/boston_univ/huggingface' target=\"_blank\">https://wandb.ai/boston_univ/huggingface</a>"
            ]
          },
          "metadata": {}
        },
        {
          "output_type": "display_data",
          "data": {
            "text/plain": [
              "<IPython.core.display.HTML object>"
            ],
            "text/html": [
              " View run at <a href='https://wandb.ai/boston_univ/huggingface/runs/61zkep8r' target=\"_blank\">https://wandb.ai/boston_univ/huggingface/runs/61zkep8r</a>"
            ]
          },
          "metadata": {}
        },
        {
          "output_type": "display_data",
          "data": {
            "text/plain": [
              "<IPython.core.display.HTML object>"
            ],
            "text/html": [
              "\n",
              "    <div>\n",
              "      \n",
              "      <progress value='26150' max='26150' style='width:300px; height:20px; vertical-align: middle;'></progress>\n",
              "      [26150/26150 08:17, Epoch 50/50]\n",
              "    </div>\n",
              "    <table border=\"1\" class=\"dataframe\">\n",
              "  <thead>\n",
              " <tr style=\"text-align: left;\">\n",
              "      <th>Epoch</th>\n",
              "      <th>Training Loss</th>\n",
              "      <th>Validation Loss</th>\n",
              "      <th>Accuracy</th>\n",
              "    </tr>\n",
              "  </thead>\n",
              "  <tbody>\n",
              "    <tr>\n",
              "      <td>1</td>\n",
              "      <td>3.058100</td>\n",
              "      <td>2.948344</td>\n",
              "      <td>0.178369</td>\n",
              "    </tr>\n",
              "    <tr>\n",
              "      <td>2</td>\n",
              "      <td>2.859900</td>\n",
              "      <td>2.641308</td>\n",
              "      <td>0.249257</td>\n",
              "    </tr>\n",
              "    <tr>\n",
              "      <td>3</td>\n",
              "      <td>2.472700</td>\n",
              "      <td>2.175329</td>\n",
              "      <td>0.354407</td>\n",
              "    </tr>\n",
              "    <tr>\n",
              "      <td>4</td>\n",
              "      <td>2.126300</td>\n",
              "      <td>1.848162</td>\n",
              "      <td>0.437157</td>\n",
              "    </tr>\n",
              "    <tr>\n",
              "      <td>5</td>\n",
              "      <td>1.885600</td>\n",
              "      <td>1.660711</td>\n",
              "      <td>0.490811</td>\n",
              "    </tr>\n",
              "    <tr>\n",
              "      <td>6</td>\n",
              "      <td>1.718900</td>\n",
              "      <td>1.520501</td>\n",
              "      <td>0.529093</td>\n",
              "    </tr>\n",
              "    <tr>\n",
              "      <td>7</td>\n",
              "      <td>1.599000</td>\n",
              "      <td>1.429512</td>\n",
              "      <td>0.553295</td>\n",
              "    </tr>\n",
              "    <tr>\n",
              "      <td>8</td>\n",
              "      <td>1.521100</td>\n",
              "      <td>1.358371</td>\n",
              "      <td>0.575709</td>\n",
              "    </tr>\n",
              "    <tr>\n",
              "      <td>9</td>\n",
              "      <td>1.452800</td>\n",
              "      <td>1.298112</td>\n",
              "      <td>0.590642</td>\n",
              "    </tr>\n",
              "    <tr>\n",
              "      <td>10</td>\n",
              "      <td>1.397700</td>\n",
              "      <td>1.232235</td>\n",
              "      <td>0.613945</td>\n",
              "    </tr>\n",
              "    <tr>\n",
              "      <td>11</td>\n",
              "      <td>1.348100</td>\n",
              "      <td>1.195759</td>\n",
              "      <td>0.624598</td>\n",
              "    </tr>\n",
              "    <tr>\n",
              "      <td>12</td>\n",
              "      <td>1.303900</td>\n",
              "      <td>1.154912</td>\n",
              "      <td>0.637101</td>\n",
              "    </tr>\n",
              "    <tr>\n",
              "      <td>13</td>\n",
              "      <td>1.272500</td>\n",
              "      <td>1.128995</td>\n",
              "      <td>0.648667</td>\n",
              "    </tr>\n",
              "    <tr>\n",
              "      <td>14</td>\n",
              "      <td>1.237700</td>\n",
              "      <td>1.093696</td>\n",
              "      <td>0.657772</td>\n",
              "    </tr>\n",
              "    <tr>\n",
              "      <td>15</td>\n",
              "      <td>1.214300</td>\n",
              "      <td>1.071839</td>\n",
              "      <td>0.663366</td>\n",
              "    </tr>\n",
              "    <tr>\n",
              "      <td>16</td>\n",
              "      <td>1.182100</td>\n",
              "      <td>1.045446</td>\n",
              "      <td>0.673479</td>\n",
              "    </tr>\n",
              "    <tr>\n",
              "      <td>17</td>\n",
              "      <td>1.163000</td>\n",
              "      <td>1.027808</td>\n",
              "      <td>0.678561</td>\n",
              "    </tr>\n",
              "    <tr>\n",
              "      <td>18</td>\n",
              "      <td>1.141900</td>\n",
              "      <td>1.009605</td>\n",
              "      <td>0.683687</td>\n",
              "    </tr>\n",
              "    <tr>\n",
              "      <td>19</td>\n",
              "      <td>1.122900</td>\n",
              "      <td>0.974742</td>\n",
              "      <td>0.693683</td>\n",
              "    </tr>\n",
              "    <tr>\n",
              "      <td>20</td>\n",
              "      <td>1.104400</td>\n",
              "      <td>0.970824</td>\n",
              "      <td>0.697349</td>\n",
              "    </tr>\n",
              "    <tr>\n",
              "      <td>21</td>\n",
              "      <td>1.088700</td>\n",
              "      <td>0.941404</td>\n",
              "      <td>0.705351</td>\n",
              "    </tr>\n",
              "    <tr>\n",
              "      <td>22</td>\n",
              "      <td>1.079600</td>\n",
              "      <td>0.946483</td>\n",
              "      <td>0.699805</td>\n",
              "    </tr>\n",
              "    <tr>\n",
              "      <td>23</td>\n",
              "      <td>1.057500</td>\n",
              "      <td>0.926358</td>\n",
              "      <td>0.708394</td>\n",
              "    </tr>\n",
              "    <tr>\n",
              "      <td>24</td>\n",
              "      <td>1.049400</td>\n",
              "      <td>0.907341</td>\n",
              "      <td>0.713458</td>\n",
              "    </tr>\n",
              "    <tr>\n",
              "      <td>25</td>\n",
              "      <td>1.042300</td>\n",
              "      <td>0.905210</td>\n",
              "      <td>0.716884</td>\n",
              "    </tr>\n",
              "    <tr>\n",
              "      <td>26</td>\n",
              "      <td>1.021800</td>\n",
              "      <td>0.896160</td>\n",
              "      <td>0.721054</td>\n",
              "    </tr>\n",
              "    <tr>\n",
              "      <td>27</td>\n",
              "      <td>1.003900</td>\n",
              "      <td>0.884757</td>\n",
              "      <td>0.722007</td>\n",
              "    </tr>\n",
              "    <tr>\n",
              "      <td>28</td>\n",
              "      <td>1.005400</td>\n",
              "      <td>0.873160</td>\n",
              "      <td>0.727219</td>\n",
              "    </tr>\n",
              "    <tr>\n",
              "      <td>29</td>\n",
              "      <td>0.997900</td>\n",
              "      <td>0.867531</td>\n",
              "      <td>0.724727</td>\n",
              "    </tr>\n",
              "    <tr>\n",
              "      <td>30</td>\n",
              "      <td>0.981800</td>\n",
              "      <td>0.844021</td>\n",
              "      <td>0.735090</td>\n",
              "    </tr>\n",
              "    <tr>\n",
              "      <td>31</td>\n",
              "      <td>0.974500</td>\n",
              "      <td>0.839806</td>\n",
              "      <td>0.735532</td>\n",
              "    </tr>\n",
              "    <tr>\n",
              "      <td>32</td>\n",
              "      <td>0.968200</td>\n",
              "      <td>0.843304</td>\n",
              "      <td>0.735053</td>\n",
              "    </tr>\n",
              "    <tr>\n",
              "      <td>33</td>\n",
              "      <td>0.960500</td>\n",
              "      <td>0.842346</td>\n",
              "      <td>0.734867</td>\n",
              "    </tr>\n",
              "    <tr>\n",
              "      <td>34</td>\n",
              "      <td>0.953600</td>\n",
              "      <td>0.828029</td>\n",
              "      <td>0.737805</td>\n",
              "    </tr>\n",
              "    <tr>\n",
              "      <td>35</td>\n",
              "      <td>0.944800</td>\n",
              "      <td>0.828011</td>\n",
              "      <td>0.740011</td>\n",
              "    </tr>\n",
              "    <tr>\n",
              "      <td>36</td>\n",
              "      <td>0.936200</td>\n",
              "      <td>0.811396</td>\n",
              "      <td>0.746011</td>\n",
              "    </tr>\n",
              "    <tr>\n",
              "      <td>37</td>\n",
              "      <td>0.933300</td>\n",
              "      <td>0.821281</td>\n",
              "      <td>0.742301</td>\n",
              "    </tr>\n",
              "    <tr>\n",
              "      <td>38</td>\n",
              "      <td>0.927500</td>\n",
              "      <td>0.809333</td>\n",
              "      <td>0.747378</td>\n",
              "    </tr>\n",
              "    <tr>\n",
              "      <td>39</td>\n",
              "      <td>0.923300</td>\n",
              "      <td>0.795561</td>\n",
              "      <td>0.749612</td>\n",
              "    </tr>\n",
              "    <tr>\n",
              "      <td>40</td>\n",
              "      <td>0.916000</td>\n",
              "      <td>0.803562</td>\n",
              "      <td>0.746083</td>\n",
              "    </tr>\n",
              "    <tr>\n",
              "      <td>41</td>\n",
              "      <td>0.909300</td>\n",
              "      <td>0.799890</td>\n",
              "      <td>0.747246</td>\n",
              "    </tr>\n",
              "    <tr>\n",
              "      <td>42</td>\n",
              "      <td>0.901500</td>\n",
              "      <td>0.777957</td>\n",
              "      <td>0.752306</td>\n",
              "    </tr>\n",
              "    <tr>\n",
              "      <td>43</td>\n",
              "      <td>0.895200</td>\n",
              "      <td>0.785577</td>\n",
              "      <td>0.751601</td>\n",
              "    </tr>\n",
              "    <tr>\n",
              "      <td>44</td>\n",
              "      <td>0.899000</td>\n",
              "      <td>0.788862</td>\n",
              "      <td>0.753721</td>\n",
              "    </tr>\n",
              "    <tr>\n",
              "      <td>45</td>\n",
              "      <td>0.894300</td>\n",
              "      <td>0.774217</td>\n",
              "      <td>0.755785</td>\n",
              "    </tr>\n",
              "    <tr>\n",
              "      <td>46</td>\n",
              "      <td>0.886400</td>\n",
              "      <td>0.779227</td>\n",
              "      <td>0.752453</td>\n",
              "    </tr>\n",
              "    <tr>\n",
              "      <td>47</td>\n",
              "      <td>0.885900</td>\n",
              "      <td>0.770874</td>\n",
              "      <td>0.757129</td>\n",
              "    </tr>\n",
              "    <tr>\n",
              "      <td>48</td>\n",
              "      <td>0.888600</td>\n",
              "      <td>0.766833</td>\n",
              "      <td>0.758435</td>\n",
              "    </tr>\n",
              "    <tr>\n",
              "      <td>49</td>\n",
              "      <td>0.880900</td>\n",
              "      <td>0.769657</td>\n",
              "      <td>0.755584</td>\n",
              "    </tr>\n",
              "    <tr>\n",
              "      <td>50</td>\n",
              "      <td>0.886100</td>\n",
              "      <td>0.760973</td>\n",
              "      <td>0.758087</td>\n",
              "    </tr>\n",
              "  </tbody>\n",
              "</table><p>"
            ]
          },
          "metadata": {}
        },
        {
          "output_type": "stream",
          "name": "stderr",
          "text": [
            "/usr/local/lib/python3.11/dist-packages/torch/nn/modules/transformer.py:508: UserWarning: The PyTorch API of nested tensors is in prototype stage and will change in the near future. We recommend specifying layout=torch.jagged when constructing a nested tensor, as this layout receives active development, has better operator coverage, and works with torch.compile. (Triggered internally at /pytorch/aten/src/ATen/NestedTensorImpl.cpp:178.)\n",
            "  output = torch._nested_tensor_from_mask(\n"
          ]
        },
        {
          "output_type": "display_data",
          "data": {
            "text/plain": [
              "<IPython.core.display.HTML object>"
            ],
            "text/html": [
              "\n",
              "    <div>\n",
              "      \n",
              "      <progress value='131' max='131' style='width:300px; height:20px; vertical-align: middle;'></progress>\n",
              "      [131/131 00:00]\n",
              "    </div>\n",
              "    "
            ]
          },
          "metadata": {}
        }
      ]
    },
    {
      "cell_type": "markdown",
      "source": [
        "### Consolidating data for the graphs"
      ],
      "metadata": {
        "id": "fFWqZ4ym3X-1"
      }
    },
    {
      "cell_type": "code",
      "source": [
        "df_logs = pd.DataFrame(trainer.state.log_history)\n",
        "# 5a) First train‐loss entry at each epoch\n",
        "train_loss = (\n",
        "    df_logs[df_logs[\"loss\"].notna()]\n",
        "      .groupby(\"epoch\")[\"loss\"]\n",
        "      .mean()\n",
        ")\n",
        "\n",
        "# 5b) Validation loss & accuracy at each epoch\n",
        "eval_df     = df_logs[df_logs[\"eval_loss\"].notna()].set_index(\"epoch\")\n",
        "val_loss     = eval_df[\"eval_loss\"]\n",
        "val_accuracy = eval_df[\"eval_accuracy\"]"
      ],
      "metadata": {
        "id": "DSWa5gbZiiSJ"
      },
      "execution_count": 13,
      "outputs": []
    },
    {
      "cell_type": "markdown",
      "source": [
        "### Plot the Graphs"
      ],
      "metadata": {
        "id": "tUr3Rf8A3egC"
      }
    },
    {
      "cell_type": "code",
      "source": [
        "import matplotlib.pyplot as plt\n",
        "\n",
        "# Loss vs Epoch\n",
        "plt.figure()\n",
        "plt.plot(train_loss.index,train_loss.values,label=\"Train Loss\")\n",
        "plt.plot(val_loss.index,val_loss.values,label=\"Val Loss\")\n",
        "plt.xlabel(\"Epoch\")\n",
        "plt.ylabel(\"Loss\")\n",
        "plt.legend()\n",
        "plt.title(\"Train & Validation Loss by Epoch\")\n",
        "plt.show()\n",
        "\n",
        "# Accuracy vs Epoch\n",
        "plt.figure()\n",
        "plt.plot(val_accuracy.index,val_accuracy.values,label=\"Val Accuracy\")\n",
        "plt.xlabel(\"Epoch\")\n",
        "plt.ylabel(\"Accuracy\")\n",
        "plt.title(\"Validation Accuracy by Epoch\")\n",
        "plt.show()"
      ],
      "metadata": {
        "colab": {
          "base_uri": "https://localhost:8080/",
          "height": 927
        },
        "id": "ZZANdMDGikyi",
        "outputId": "fe951a40-7dfc-46f0-8efd-30ad370b0bb5"
      },
      "execution_count": 14,
      "outputs": [
        {
          "output_type": "display_data",
          "data": {
            "text/plain": [
              "<Figure size 640x480 with 1 Axes>"
            ],
            "image/png": "[encoded data removed]"
          },
          "metadata": {}
        },
        {
          "output_type": "display_data",
          "data": {
            "text/plain": [
              "<Figure size 640x480 with 1 Axes>"
            ],
            "image/png": "[encoded data removed]"
          },
          "metadata": {}
        }
      ]
    },
    {
      "cell_type": "markdown",
      "source": [
        "### Inference"
      ],
      "metadata": {
        "id": "f4UEfAdg3hYi"
      }
    },
    {
      "cell_type": "code",
      "source": [
        "def predict_mask_tokens(\n",
        "    model: MorseForMaskedLM,\n",
        "    sentence: str,\n",
        "    token2id: Dict[str,int],\n",
        "    id2token: Dict[int,str],\n",
        "    max_len: int = MAX_LEN,\n",
        "    device: str = DEVICE,\n",
        ") -> Union[str, List[str]]:\n",
        "    \"\"\"\n",
        "    Returns only the predicted token(s) for each [MASK] in the input.\n",
        "    If there’s exactly one mask, returns a single string; otherwise a list.\n",
        "    \"\"\"\n",
        "    # 1) tokenize & find mask positions\n",
        "    toks = sentence.split()\n",
        "    mask_positions = [i for i,t in enumerate(toks) if t == \"[MASK]\"]\n",
        "    assert mask_positions, \"No [MASK] in your sentence!\"\n",
        "\n",
        "    # 2) convert to IDs & pad/truncate\n",
        "    input_ids = [ token2id.get(t, token2id[\"[PAD]\"]) for t in toks ][:max_len]\n",
        "    seq_len   = len(input_ids)\n",
        "    attention_mask = [1]*seq_len\n",
        "    if seq_len < max_len:\n",
        "        pad_len = max_len - seq_len\n",
        "        input_ids      += [token2id[\"[PAD]\"]]*pad_len\n",
        "        attention_mask += [0]*pad_len\n",
        "\n",
        "    # 3) make tensors\n",
        "    ids_tensor  = torch.tensor([input_ids],      dtype=torch.long, device=device)\n",
        "    mask_tensor = torch.tensor([attention_mask], dtype=torch.long, device=device)\n",
        "\n",
        "    # 4) forward pass\n",
        "    model.eval()\n",
        "    with torch.no_grad():\n",
        "        outputs = model(input_ids=ids_tensor, attention_mask=mask_tensor)\n",
        "        logits  = outputs.logits  # (1, max_len, vocab_size)\n",
        "\n",
        "    # 5) pick top prediction at each masked position\n",
        "    pred_ids = logits[0, mask_positions].argmax(dim=-1).cpu().tolist()\n",
        "    pred_tokens = [id2token[i] for i in pred_ids]\n",
        "\n",
        "    # 6) if only one mask, return a single string\n",
        "    return pred_tokens[0] if len(pred_tokens) == 1 else pred_tokens"
      ],
      "metadata": {
        "id": "4z2UucsCBpG8"
      },
      "execution_count": 17,
      "outputs": []
    },
    {
      "cell_type": "markdown",
      "source": [
        "### Load the best model and test"
      ],
      "metadata": {
        "id": "DVMtSEpy3mBP"
      }
    },
    {
      "cell_type": "code",
      "source": [
        "# load your best model (if you saved it to OUTPUT_DIR)\n",
        "model = MorseForMaskedLM.from_pretrained(OUTPUT_DIR, config=config).to(DEVICE)\n",
        "\n",
        "# build reverse vocab\n",
        "id2token = {i:t for t,i in token2id.items()}\n",
        "\n",
        "# example\n",
        "test_sent = \"--- ..- .-. / [MASK] / -.-. --- -.. . / - .-. .- -. ... .-.. .- - --- .-. / [.... . .-.. .--. ...] / -.-- --- ..- / - .-. .- -. ... .-.. .- - . / - . -..- - / - --- / -- --- .-. ... . / -.-. --- -.. . / .-... / -- --- .-. ...\"\n",
        "prediction = predict_mask_tokens(model, test_sent, token2id, id2token)\n",
        "print(\"Input:     \", test_sent)\n",
        "print(\"Prediction:\", prediction)"
      ],
      "metadata": {
        "colab": {
          "base_uri": "https://localhost:8080/"
        },
        "id": "SbnPKKRX3lWZ",
        "outputId": "fdb8b3df-54df-4cbc-d380-d249249d0169"
      },
      "execution_count": 21,
      "outputs": [
        {
          "output_type": "stream",
          "name": "stdout",
          "text": [
            "Input:      --- ..- .-. / [MASK] / -.-. --- -.. . / - .-. .- -. ... .-.. .- - --- .-. / [.... . .-.. .--. ...] / -.-- --- ..- / - .-. .- -. ... .-.. .- - . / - . -..- - / - --- / -- --- .-. ... . / -.-. --- -.. . / .-... / -- --- .-. ...\n",
            "Prediction: .-\n"
          ]
        }
      ]
    }
  ]
}